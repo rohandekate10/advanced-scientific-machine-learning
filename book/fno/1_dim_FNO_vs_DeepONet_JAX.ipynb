{
  "nbformat": 4,
  "nbformat_minor": 0,
  "metadata": {
    "colab": {
      "provenance": []
    },
    "kernelspec": {
      "name": "python3",
      "display_name": "Python 3"
    },
    "language_info": {
      "name": "python"
    },
    "widgets": {
      "application/vnd.jupyter.widget-state+json": {
        "170a48292ed14b4cb303bf90d4435d04": {
          "model_module": "@jupyter-widgets/controls",
          "model_name": "HBoxModel",
          "model_module_version": "1.5.0",
          "state": {
            "_dom_classes": [],
            "_model_module": "@jupyter-widgets/controls",
            "_model_module_version": "1.5.0",
            "_model_name": "HBoxModel",
            "_view_count": null,
            "_view_module": "@jupyter-widgets/controls",
            "_view_module_version": "1.5.0",
            "_view_name": "HBoxView",
            "box_style": "",
            "children": [
              "IPY_MODEL_5e55975fa2614b728767679717b443b9",
              "IPY_MODEL_e277055496e84f08af8b037319320ca3",
              "IPY_MODEL_3aeee0f4812b4ece88142f3be45f1c1a"
            ],
            "layout": "IPY_MODEL_7ebcaa5fb0a44c938f7a9b735da1c1f1"
          }
        },
        "5e55975fa2614b728767679717b443b9": {
          "model_module": "@jupyter-widgets/controls",
          "model_name": "HTMLModel",
          "model_module_version": "1.5.0",
          "state": {
            "_dom_classes": [],
            "_model_module": "@jupyter-widgets/controls",
            "_model_module_version": "1.5.0",
            "_model_name": "HTMLModel",
            "_view_count": null,
            "_view_module": "@jupyter-widgets/controls",
            "_view_module_version": "1.5.0",
            "_view_name": "HTMLView",
            "description": "",
            "description_tooltip": null,
            "layout": "IPY_MODEL_ad07fa771fa14b1db8016701c9e58c5b",
            "placeholder": "​",
            "style": "IPY_MODEL_1e8a19d226c14b58927c3bc2312a0c36",
            "value": "100%"
          }
        },
        "e277055496e84f08af8b037319320ca3": {
          "model_module": "@jupyter-widgets/controls",
          "model_name": "FloatProgressModel",
          "model_module_version": "1.5.0",
          "state": {
            "_dom_classes": [],
            "_model_module": "@jupyter-widgets/controls",
            "_model_module_version": "1.5.0",
            "_model_name": "FloatProgressModel",
            "_view_count": null,
            "_view_module": "@jupyter-widgets/controls",
            "_view_module_version": "1.5.0",
            "_view_name": "ProgressView",
            "bar_style": "success",
            "description": "",
            "description_tooltip": null,
            "layout": "IPY_MODEL_2dd96a402ad4454b95fdce64bd9976c6",
            "max": 200,
            "min": 0,
            "orientation": "horizontal",
            "style": "IPY_MODEL_2bf7a4c4b049402db8f3daec2d5a0833",
            "value": 200
          }
        },
        "3aeee0f4812b4ece88142f3be45f1c1a": {
          "model_module": "@jupyter-widgets/controls",
          "model_name": "HTMLModel",
          "model_module_version": "1.5.0",
          "state": {
            "_dom_classes": [],
            "_model_module": "@jupyter-widgets/controls",
            "_model_module_version": "1.5.0",
            "_model_name": "HTMLModel",
            "_view_count": null,
            "_view_module": "@jupyter-widgets/controls",
            "_view_module_version": "1.5.0",
            "_view_name": "HTMLView",
            "description": "",
            "description_tooltip": null,
            "layout": "IPY_MODEL_cad6c72eb89f4d71b69e76c90542c2b6",
            "placeholder": "​",
            "style": "IPY_MODEL_cbb679694cd14dccb29145afa85ad622",
            "value": " 200/200 [25:10&lt;00:00,  7.50s/it]"
          }
        },
        "7ebcaa5fb0a44c938f7a9b735da1c1f1": {
          "model_module": "@jupyter-widgets/base",
          "model_name": "LayoutModel",
          "model_module_version": "1.2.0",
          "state": {
            "_model_module": "@jupyter-widgets/base",
            "_model_module_version": "1.2.0",
            "_model_name": "LayoutModel",
            "_view_count": null,
            "_view_module": "@jupyter-widgets/base",
            "_view_module_version": "1.2.0",
            "_view_name": "LayoutView",
            "align_content": null,
            "align_items": null,
            "align_self": null,
            "border": null,
            "bottom": null,
            "display": null,
            "flex": null,
            "flex_flow": null,
            "grid_area": null,
            "grid_auto_columns": null,
            "grid_auto_flow": null,
            "grid_auto_rows": null,
            "grid_column": null,
            "grid_gap": null,
            "grid_row": null,
            "grid_template_areas": null,
            "grid_template_columns": null,
            "grid_template_rows": null,
            "height": null,
            "justify_content": null,
            "justify_items": null,
            "left": null,
            "margin": null,
            "max_height": null,
            "max_width": null,
            "min_height": null,
            "min_width": null,
            "object_fit": null,
            "object_position": null,
            "order": null,
            "overflow": null,
            "overflow_x": null,
            "overflow_y": null,
            "padding": null,
            "right": null,
            "top": null,
            "visibility": null,
            "width": null
          }
        },
        "ad07fa771fa14b1db8016701c9e58c5b": {
          "model_module": "@jupyter-widgets/base",
          "model_name": "LayoutModel",
          "model_module_version": "1.2.0",
          "state": {
            "_model_module": "@jupyter-widgets/base",
            "_model_module_version": "1.2.0",
            "_model_name": "LayoutModel",
            "_view_count": null,
            "_view_module": "@jupyter-widgets/base",
            "_view_module_version": "1.2.0",
            "_view_name": "LayoutView",
            "align_content": null,
            "align_items": null,
            "align_self": null,
            "border": null,
            "bottom": null,
            "display": null,
            "flex": null,
            "flex_flow": null,
            "grid_area": null,
            "grid_auto_columns": null,
            "grid_auto_flow": null,
            "grid_auto_rows": null,
            "grid_column": null,
            "grid_gap": null,
            "grid_row": null,
            "grid_template_areas": null,
            "grid_template_columns": null,
            "grid_template_rows": null,
            "height": null,
            "justify_content": null,
            "justify_items": null,
            "left": null,
            "margin": null,
            "max_height": null,
            "max_width": null,
            "min_height": null,
            "min_width": null,
            "object_fit": null,
            "object_position": null,
            "order": null,
            "overflow": null,
            "overflow_x": null,
            "overflow_y": null,
            "padding": null,
            "right": null,
            "top": null,
            "visibility": null,
            "width": null
          }
        },
        "1e8a19d226c14b58927c3bc2312a0c36": {
          "model_module": "@jupyter-widgets/controls",
          "model_name": "DescriptionStyleModel",
          "model_module_version": "1.5.0",
          "state": {
            "_model_module": "@jupyter-widgets/controls",
            "_model_module_version": "1.5.0",
            "_model_name": "DescriptionStyleModel",
            "_view_count": null,
            "_view_module": "@jupyter-widgets/base",
            "_view_module_version": "1.2.0",
            "_view_name": "StyleView",
            "description_width": ""
          }
        },
        "2dd96a402ad4454b95fdce64bd9976c6": {
          "model_module": "@jupyter-widgets/base",
          "model_name": "LayoutModel",
          "model_module_version": "1.2.0",
          "state": {
            "_model_module": "@jupyter-widgets/base",
            "_model_module_version": "1.2.0",
            "_model_name": "LayoutModel",
            "_view_count": null,
            "_view_module": "@jupyter-widgets/base",
            "_view_module_version": "1.2.0",
            "_view_name": "LayoutView",
            "align_content": null,
            "align_items": null,
            "align_self": null,
            "border": null,
            "bottom": null,
            "display": null,
            "flex": null,
            "flex_flow": null,
            "grid_area": null,
            "grid_auto_columns": null,
            "grid_auto_flow": null,
            "grid_auto_rows": null,
            "grid_column": null,
            "grid_gap": null,
            "grid_row": null,
            "grid_template_areas": null,
            "grid_template_columns": null,
            "grid_template_rows": null,
            "height": null,
            "justify_content": null,
            "justify_items": null,
            "left": null,
            "margin": null,
            "max_height": null,
            "max_width": null,
            "min_height": null,
            "min_width": null,
            "object_fit": null,
            "object_position": null,
            "order": null,
            "overflow": null,
            "overflow_x": null,
            "overflow_y": null,
            "padding": null,
            "right": null,
            "top": null,
            "visibility": null,
            "width": null
          }
        },
        "2bf7a4c4b049402db8f3daec2d5a0833": {
          "model_module": "@jupyter-widgets/controls",
          "model_name": "ProgressStyleModel",
          "model_module_version": "1.5.0",
          "state": {
            "_model_module": "@jupyter-widgets/controls",
            "_model_module_version": "1.5.0",
            "_model_name": "ProgressStyleModel",
            "_view_count": null,
            "_view_module": "@jupyter-widgets/base",
            "_view_module_version": "1.2.0",
            "_view_name": "StyleView",
            "bar_color": null,
            "description_width": ""
          }
        },
        "cad6c72eb89f4d71b69e76c90542c2b6": {
          "model_module": "@jupyter-widgets/base",
          "model_name": "LayoutModel",
          "model_module_version": "1.2.0",
          "state": {
            "_model_module": "@jupyter-widgets/base",
            "_model_module_version": "1.2.0",
            "_model_name": "LayoutModel",
            "_view_count": null,
            "_view_module": "@jupyter-widgets/base",
            "_view_module_version": "1.2.0",
            "_view_name": "LayoutView",
            "align_content": null,
            "align_items": null,
            "align_self": null,
            "border": null,
            "bottom": null,
            "display": null,
            "flex": null,
            "flex_flow": null,
            "grid_area": null,
            "grid_auto_columns": null,
            "grid_auto_flow": null,
            "grid_auto_rows": null,
            "grid_column": null,
            "grid_gap": null,
            "grid_row": null,
            "grid_template_areas": null,
            "grid_template_columns": null,
            "grid_template_rows": null,
            "height": null,
            "justify_content": null,
            "justify_items": null,
            "left": null,
            "margin": null,
            "max_height": null,
            "max_width": null,
            "min_height": null,
            "min_width": null,
            "object_fit": null,
            "object_position": null,
            "order": null,
            "overflow": null,
            "overflow_x": null,
            "overflow_y": null,
            "padding": null,
            "right": null,
            "top": null,
            "visibility": null,
            "width": null
          }
        },
        "cbb679694cd14dccb29145afa85ad622": {
          "model_module": "@jupyter-widgets/controls",
          "model_name": "DescriptionStyleModel",
          "model_module_version": "1.5.0",
          "state": {
            "_model_module": "@jupyter-widgets/controls",
            "_model_module_version": "1.5.0",
            "_model_name": "DescriptionStyleModel",
            "_view_count": null,
            "_view_module": "@jupyter-widgets/base",
            "_view_module_version": "1.2.0",
            "_view_name": "StyleView",
            "description_width": ""
          }
        }
      }
    }
  },
  "cells": [
    {
      "cell_type": "code",
      "source": [
        "import numpy as np\n",
        "import matplotlib.pyplot as plt\n",
        "%matplotlib inline\n",
        "import matplotlib_inline\n",
        "matplotlib_inline.backend_inline.set_matplotlib_formats('svg')\n",
        "import seaborn as sns\n",
        "sns.set_context(\"paper\")\n",
        "sns.set_style(\"ticks\")"
      ],
      "metadata": {
        "id": "aTZi9RVrUzcS"
      },
      "execution_count": 1,
      "outputs": []
    },
    {
      "cell_type": "markdown",
      "source": [
        "# Fourier Neural Operator\n",
        "\n",
        "Neural Operators generalize Deep Neural Networks to $∞$-dimensions.\n",
        "A\n",
        "\n",
        "FNO consists of:\n",
        "\n",
        "\n",
        "1.   Lifting Layer ($1 \\times 1$ Convolution).\n",
        "2.   Multiple blocks of Spectral Convolutions with a Bypass.\n",
        "3.   Projection Layer ($1 \\times 1$ Convolution).\n",
        "\n",
        "Block operation:\n",
        "$$b = \\verb|activation|(\\tilde{a}+\\verb|Conv|_{1\\times 1}(a))$$\n",
        "\n"
      ],
      "metadata": {
        "id": "kZRZFxQEUmXF"
      }
    },
    {
      "cell_type": "markdown",
      "source": [
        "# 1D [Burgers' Equation](https://https://en.wikipedia.org/wiki/Burgers%27_equation)\n",
        "\n",
        "The purpose of this notebook is to introduce you to coding the FNO using JAX. It is recommended that you use Google Colab with GPU to run this notebook as the training can take upto 30 minutes in CPU.\n",
        "\n",
        "The Burger's equation is described by the following PDE.\n",
        "\n",
        "$$\\frac{\\partial u}{\\partial t} + \\frac{1}{2} \\frac{\\partial u}{\\partial x} = \\nu \\frac{\\partial^2 u}{\\partial x^2}$$\n",
        "\n",
        "The boundary conditions are provided by:\n",
        "*   $\\Omega = (0, 2\\pi)$.\n",
        "*   $u(t,x=0)=u(t,x=2\\pi)$.\n",
        "*   $\\nu=0.1$.\n",
        "\n"
      ],
      "metadata": {
        "id": "Zg6HD23kXnUy"
      }
    },
    {
      "cell_type": "code",
      "execution_count": 23,
      "metadata": {
        "colab": {
          "base_uri": "https://localhost:8080/"
        },
        "id": "2jMGCT4SUZx4",
        "outputId": "d3d66a72-96c1-4e14-e227-78fc5afd4eb9"
      },
      "outputs": [
        {
          "output_type": "stream",
          "name": "stderr",
          "text": [
            "<ipython-input-23-a502d726e4e7>:12: TqdmExperimentalWarning: Using `tqdm.autonotebook.tqdm` in notebook mode. Use `tqdm.tqdm` instead to force console mode (e.g. in jupyter console)\n",
            "  from tqdm.autonotebook import tqdm\n"
          ]
        }
      ],
      "source": [
        "# Import Libraries\n",
        "import jax\n",
        "import jax.numpy as jnp\n",
        "import optax\n",
        "from typing import Callable, List\n",
        "import scipy\n",
        "try:\n",
        "  import equinox as eqx\n",
        "except:\n",
        "  !pip install equinox --quiet\n",
        "  import equinox as eqx\n",
        "from tqdm.autonotebook import tqdm"
      ]
    },
    {
      "cell_type": "markdown",
      "source": [
        "The dataset consists of $a=2048$ initial conditions $u(t=0,x)$ on a $N=8192$ resolution together with their solution at time $u(t=1,x)$"
      ],
      "metadata": {
        "id": "cBN5HM7fpRn1"
      }
    },
    {
      "cell_type": "code",
      "source": [
        "# Download Dataset\n",
        "# Mathworks (the creators of Matlab) host the original Li et al. dataset in the .mat format\n",
        "!wget https://ssd.mathworks.com/supportfiles/nnet/data/burgers1d/burgers_data_R10.mat"
      ],
      "metadata": {
        "colab": {
          "base_uri": "https://localhost:8080/"
        },
        "id": "MtE0WQi-aEvV",
        "outputId": "abc6fa7c-436d-4a85-cbd3-bea6a5e9a22b"
      },
      "execution_count": 3,
      "outputs": [
        {
          "output_type": "stream",
          "name": "stdout",
          "text": [
            "--2024-11-07 21:47:29--  https://ssd.mathworks.com/supportfiles/nnet/data/burgers1d/burgers_data_R10.mat\n",
            "Resolving ssd.mathworks.com (ssd.mathworks.com)... 23.12.87.41\n",
            "Connecting to ssd.mathworks.com (ssd.mathworks.com)|23.12.87.41|:443... connected.\n",
            "HTTP request sent, awaiting response... 200 OK\n",
            "Length: 644427710 (615M) [text/plain]\n",
            "Saving to: ‘burgers_data_R10.mat’\n",
            "\n",
            "burgers_data_R10.ma 100%[===================>] 614.57M  68.4MB/s    in 11s     \n",
            "\n",
            "2024-11-07 21:47:41 (57.2 MB/s) - ‘burgers_data_R10.mat’ saved [644427710/644427710]\n",
            "\n"
          ]
        }
      ]
    },
    {
      "cell_type": "code",
      "source": [
        "# Load the .mat file in python environment\n",
        "data = scipy.io.loadmat('burgers_data_R10.mat')"
      ],
      "metadata": {
        "id": "MBKXeGKsaZkx"
      },
      "execution_count": 4,
      "outputs": []
    },
    {
      "cell_type": "code",
      "source": [
        "# Extract the initial conditions (inputs) and outputs from the dataset\n",
        "a, u = data['a'], data['u']\n",
        "print(f\"Shape of a (Number of Samples, Discretization): {a.shape}\")\n",
        "print(f\"Shape of u (Number of Samples, Discretization): {u.shape}\")"
      ],
      "metadata": {
        "colab": {
          "base_uri": "https://localhost:8080/"
        },
        "id": "mlf5Rkajaeqw",
        "outputId": "7cfcf724-d2c8-4737-9cf1-f629b69e0985"
      },
      "execution_count": 5,
      "outputs": [
        {
          "output_type": "stream",
          "name": "stdout",
          "text": [
            "Shape of a (Number of Samples, Discretization): (2048, 8192)\n",
            "Shape of u (Number of Samples, Discretization): (2048, 8192)\n"
          ]
        }
      ]
    },
    {
      "cell_type": "code",
      "source": [
        "fig, ax = plt.subplots()\n",
        "ax.plot(a[0], label=\"Initial Condition: $a$\")\n",
        "ax.plot(u[0], label=\"Solution after 1 time step\")\n",
        "ax.legend()\n",
        "ax.set_title(\"Initial Condition and Solution\")\n",
        "ax.grid(True)\n",
        "plt.show()"
      ],
      "metadata": {
        "colab": {
          "base_uri": "https://localhost:8080/",
          "height": 436
        },
        "id": "IS0i5GP_away",
        "outputId": "6d414933-9dfe-43ad-da3e-032cf2416ee4"
      },
      "execution_count": 6,
      "outputs": [
        {
          "output_type": "display_data",
          "data": {
            "text/plain": [
              "<Figure size 640x480 with 1 Axes>"
            ],
            "image/svg+xml": "<?xml version=\"1.0\" encoding=\"utf-8\" standalone=\"no\"?>\n<!DOCTYPE svg PUBLIC \"-//W3C//DTD SVG 1.1//EN\"\n  \"http://www.w3.org/Graphics/SVG/1.1/DTD/svg11.dtd\">\n<svg xmlns:xlink=\"http://www.w3.org/1999/xlink\" width=\"406.787875pt\" height=\"310.62325pt\" viewBox=\"0 0 406.787875 310.62325\" xmlns=\"http://www.w3.org/2000/svg\" version=\"1.1\">\n <metadata>\n  <rdf:RDF xmlns:dc=\"http://purl.org/dc/elements/1.1/\" xmlns:cc=\"http://creativecommons.org/ns#\" xmlns:rdf=\"http://www.w3.org/1999/02/22-rdf-syntax-ns#\">\n   <cc:Work>\n    <dc:type rdf:resource=\"http://purl.org/dc/dcmitype/StillImage\"/>\n    <dc:date>2024-11-07T21:47:53.580206</dc:date>\n    <dc:format>image/svg+xml</dc:format>\n    <dc:creator>\n     <cc:Agent>\n      <dc:title>Matplotlib v3.8.0, https://matplotlib.org/</dc:title>\n     </cc:Agent>\n    </dc:creator>\n   </cc:Work>\n  </rdf:RDF>\n </metadata>\n <defs>\n  <style type=\"text/css\">*{stroke-linejoin: round; stroke-linecap: butt}</style>\n </defs>\n <g id=\"figure_1\">\n  <g id=\"patch_1\">\n   <path d=\"M -0 310.62325 \nL 406.787875 310.62325 \nL 406.787875 0 \nL -0 0 \nz\n\" style=\"fill: #ffffff\"/>\n  </g>\n  <g id=\"axes_1\">\n   <g id=\"patch_2\">\n    <path d=\"M 42.467875 286.6065 \nL 399.587875 286.6065 \nL 399.587875 20.4945 \nL 42.467875 20.4945 \nz\n\" style=\"fill: #ffffff\"/>\n   </g>\n   <g id=\"matplotlib.axis_1\">\n    <g id=\"xtick_1\">\n     <g id=\"line2d_1\">\n      <path d=\"M 58.700602 286.6065 \nL 58.700602 20.4945 \n\" clip-path=\"url(#pf0a3a3ca89)\" style=\"fill: none; stroke: #cccccc; stroke-width: 0.8; stroke-linecap: round\"/>\n     </g>\n     <g id=\"line2d_2\">\n      <defs>\n       <path id=\"mc19209af76\" d=\"M 0 0 \nL 0 4.8 \n\" style=\"stroke: #262626\"/>\n      </defs>\n      <g>\n       <use xlink:href=\"#mc19209af76\" x=\"58.700602\" y=\"286.6065\" style=\"fill: #262626; stroke: #262626\"/>\n      </g>\n     </g>\n     <g id=\"text_1\">\n      <!-- 0 -->\n      <g style=\"fill: #262626\" transform=\"translate(55.901102 301.593125) scale(0.088 -0.088)\">\n       <defs>\n        <path id=\"DejaVuSans-30\" d=\"M 2034 4250 \nQ 1547 4250 1301 3770 \nQ 1056 3291 1056 2328 \nQ 1056 1369 1301 889 \nQ 1547 409 2034 409 \nQ 2525 409 2770 889 \nQ 3016 1369 3016 2328 \nQ 3016 3291 2770 3770 \nQ 2525 4250 2034 4250 \nz\nM 2034 4750 \nQ 2819 4750 3233 4129 \nQ 3647 3509 3647 2328 \nQ 3647 1150 3233 529 \nQ 2819 -91 2034 -91 \nQ 1250 -91 836 529 \nQ 422 1150 422 2328 \nQ 422 3509 836 4129 \nQ 1250 4750 2034 4750 \nz\n\" transform=\"scale(0.015625)\"/>\n       </defs>\n       <use xlink:href=\"#DejaVuSans-30\"/>\n      </g>\n     </g>\n    </g>\n    <g id=\"xtick_2\">\n     <g id=\"line2d_3\">\n      <path d=\"M 137.971643 286.6065 \nL 137.971643 20.4945 \n\" clip-path=\"url(#pf0a3a3ca89)\" style=\"fill: none; stroke: #cccccc; stroke-width: 0.8; stroke-linecap: round\"/>\n     </g>\n     <g id=\"line2d_4\">\n      <g>\n       <use xlink:href=\"#mc19209af76\" x=\"137.971643\" y=\"286.6065\" style=\"fill: #262626; stroke: #262626\"/>\n      </g>\n     </g>\n     <g id=\"text_2\">\n      <!-- 2000 -->\n      <g style=\"fill: #262626\" transform=\"translate(126.773643 301.593125) scale(0.088 -0.088)\">\n       <defs>\n        <path id=\"DejaVuSans-32\" d=\"M 1228 531 \nL 3431 531 \nL 3431 0 \nL 469 0 \nL 469 531 \nQ 828 903 1448 1529 \nQ 2069 2156 2228 2338 \nQ 2531 2678 2651 2914 \nQ 2772 3150 2772 3378 \nQ 2772 3750 2511 3984 \nQ 2250 4219 1831 4219 \nQ 1534 4219 1204 4116 \nQ 875 4013 500 3803 \nL 500 4441 \nQ 881 4594 1212 4672 \nQ 1544 4750 1819 4750 \nQ 2544 4750 2975 4387 \nQ 3406 4025 3406 3419 \nQ 3406 3131 3298 2873 \nQ 3191 2616 2906 2266 \nQ 2828 2175 2409 1742 \nQ 1991 1309 1228 531 \nz\n\" transform=\"scale(0.015625)\"/>\n       </defs>\n       <use xlink:href=\"#DejaVuSans-32\"/>\n       <use xlink:href=\"#DejaVuSans-30\" x=\"63.623047\"/>\n       <use xlink:href=\"#DejaVuSans-30\" x=\"127.246094\"/>\n       <use xlink:href=\"#DejaVuSans-30\" x=\"190.869141\"/>\n      </g>\n     </g>\n    </g>\n    <g id=\"xtick_3\">\n     <g id=\"line2d_5\">\n      <path d=\"M 217.242683 286.6065 \nL 217.242683 20.4945 \n\" clip-path=\"url(#pf0a3a3ca89)\" style=\"fill: none; stroke: #cccccc; stroke-width: 0.8; stroke-linecap: round\"/>\n     </g>\n     <g id=\"line2d_6\">\n      <g>\n       <use xlink:href=\"#mc19209af76\" x=\"217.242683\" y=\"286.6065\" style=\"fill: #262626; stroke: #262626\"/>\n      </g>\n     </g>\n     <g id=\"text_3\">\n      <!-- 4000 -->\n      <g style=\"fill: #262626\" transform=\"translate(206.044683 301.593125) scale(0.088 -0.088)\">\n       <defs>\n        <path id=\"DejaVuSans-34\" d=\"M 2419 4116 \nL 825 1625 \nL 2419 1625 \nL 2419 4116 \nz\nM 2253 4666 \nL 3047 4666 \nL 3047 1625 \nL 3713 1625 \nL 3713 1100 \nL 3047 1100 \nL 3047 0 \nL 2419 0 \nL 2419 1100 \nL 313 1100 \nL 313 1709 \nL 2253 4666 \nz\n\" transform=\"scale(0.015625)\"/>\n       </defs>\n       <use xlink:href=\"#DejaVuSans-34\"/>\n       <use xlink:href=\"#DejaVuSans-30\" x=\"63.623047\"/>\n       <use xlink:href=\"#DejaVuSans-30\" x=\"127.246094\"/>\n       <use xlink:href=\"#DejaVuSans-30\" x=\"190.869141\"/>\n      </g>\n     </g>\n    </g>\n    <g id=\"xtick_4\">\n     <g id=\"line2d_7\">\n      <path d=\"M 296.513723 286.6065 \nL 296.513723 20.4945 \n\" clip-path=\"url(#pf0a3a3ca89)\" style=\"fill: none; stroke: #cccccc; stroke-width: 0.8; stroke-linecap: round\"/>\n     </g>\n     <g id=\"line2d_8\">\n      <g>\n       <use xlink:href=\"#mc19209af76\" x=\"296.513723\" y=\"286.6065\" style=\"fill: #262626; stroke: #262626\"/>\n      </g>\n     </g>\n     <g id=\"text_4\">\n      <!-- 6000 -->\n      <g style=\"fill: #262626\" transform=\"translate(285.315723 301.593125) scale(0.088 -0.088)\">\n       <defs>\n        <path id=\"DejaVuSans-36\" d=\"M 2113 2584 \nQ 1688 2584 1439 2293 \nQ 1191 2003 1191 1497 \nQ 1191 994 1439 701 \nQ 1688 409 2113 409 \nQ 2538 409 2786 701 \nQ 3034 994 3034 1497 \nQ 3034 2003 2786 2293 \nQ 2538 2584 2113 2584 \nz\nM 3366 4563 \nL 3366 3988 \nQ 3128 4100 2886 4159 \nQ 2644 4219 2406 4219 \nQ 1781 4219 1451 3797 \nQ 1122 3375 1075 2522 \nQ 1259 2794 1537 2939 \nQ 1816 3084 2150 3084 \nQ 2853 3084 3261 2657 \nQ 3669 2231 3669 1497 \nQ 3669 778 3244 343 \nQ 2819 -91 2113 -91 \nQ 1303 -91 875 529 \nQ 447 1150 447 2328 \nQ 447 3434 972 4092 \nQ 1497 4750 2381 4750 \nQ 2619 4750 2861 4703 \nQ 3103 4656 3366 4563 \nz\n\" transform=\"scale(0.015625)\"/>\n       </defs>\n       <use xlink:href=\"#DejaVuSans-36\"/>\n       <use xlink:href=\"#DejaVuSans-30\" x=\"63.623047\"/>\n       <use xlink:href=\"#DejaVuSans-30\" x=\"127.246094\"/>\n       <use xlink:href=\"#DejaVuSans-30\" x=\"190.869141\"/>\n      </g>\n     </g>\n    </g>\n    <g id=\"xtick_5\">\n     <g id=\"line2d_9\">\n      <path d=\"M 375.784763 286.6065 \nL 375.784763 20.4945 \n\" clip-path=\"url(#pf0a3a3ca89)\" style=\"fill: none; stroke: #cccccc; stroke-width: 0.8; stroke-linecap: round\"/>\n     </g>\n     <g id=\"line2d_10\">\n      <g>\n       <use xlink:href=\"#mc19209af76\" x=\"375.784763\" y=\"286.6065\" style=\"fill: #262626; stroke: #262626\"/>\n      </g>\n     </g>\n     <g id=\"text_5\">\n      <!-- 8000 -->\n      <g style=\"fill: #262626\" transform=\"translate(364.586763 301.593125) scale(0.088 -0.088)\">\n       <defs>\n        <path id=\"DejaVuSans-38\" d=\"M 2034 2216 \nQ 1584 2216 1326 1975 \nQ 1069 1734 1069 1313 \nQ 1069 891 1326 650 \nQ 1584 409 2034 409 \nQ 2484 409 2743 651 \nQ 3003 894 3003 1313 \nQ 3003 1734 2745 1975 \nQ 2488 2216 2034 2216 \nz\nM 1403 2484 \nQ 997 2584 770 2862 \nQ 544 3141 544 3541 \nQ 544 4100 942 4425 \nQ 1341 4750 2034 4750 \nQ 2731 4750 3128 4425 \nQ 3525 4100 3525 3541 \nQ 3525 3141 3298 2862 \nQ 3072 2584 2669 2484 \nQ 3125 2378 3379 2068 \nQ 3634 1759 3634 1313 \nQ 3634 634 3220 271 \nQ 2806 -91 2034 -91 \nQ 1263 -91 848 271 \nQ 434 634 434 1313 \nQ 434 1759 690 2068 \nQ 947 2378 1403 2484 \nz\nM 1172 3481 \nQ 1172 3119 1398 2916 \nQ 1625 2713 2034 2713 \nQ 2441 2713 2670 2916 \nQ 2900 3119 2900 3481 \nQ 2900 3844 2670 4047 \nQ 2441 4250 2034 4250 \nQ 1625 4250 1398 4047 \nQ 1172 3844 1172 3481 \nz\n\" transform=\"scale(0.015625)\"/>\n       </defs>\n       <use xlink:href=\"#DejaVuSans-38\"/>\n       <use xlink:href=\"#DejaVuSans-30\" x=\"63.623047\"/>\n       <use xlink:href=\"#DejaVuSans-30\" x=\"127.246094\"/>\n       <use xlink:href=\"#DejaVuSans-30\" x=\"190.869141\"/>\n      </g>\n     </g>\n    </g>\n   </g>\n   <g id=\"matplotlib.axis_2\">\n    <g id=\"ytick_1\">\n     <g id=\"line2d_11\">\n      <path d=\"M 42.467875 279.187588 \nL 399.587875 279.187588 \n\" clip-path=\"url(#pf0a3a3ca89)\" style=\"fill: none; stroke: #cccccc; stroke-width: 0.8; stroke-linecap: round\"/>\n     </g>\n     <g id=\"line2d_12\">\n      <defs>\n       <path id=\"m9410e7043b\" d=\"M 0 0 \nL -4.8 0 \n\" style=\"stroke: #262626\"/>\n      </defs>\n      <g>\n       <use xlink:href=\"#m9410e7043b\" x=\"42.467875\" y=\"279.187588\" style=\"fill: #262626; stroke: #262626\"/>\n      </g>\n     </g>\n     <g id=\"text_6\">\n      <!-- −1.00 -->\n      <g style=\"fill: #262626\" transform=\"translate(7.2 282.5309) scale(0.088 -0.088)\">\n       <defs>\n        <path id=\"DejaVuSans-2212\" d=\"M 678 2272 \nL 4684 2272 \nL 4684 1741 \nL 678 1741 \nL 678 2272 \nz\n\" transform=\"scale(0.015625)\"/>\n        <path id=\"DejaVuSans-31\" d=\"M 794 531 \nL 1825 531 \nL 1825 4091 \nL 703 3866 \nL 703 4441 \nL 1819 4666 \nL 2450 4666 \nL 2450 531 \nL 3481 531 \nL 3481 0 \nL 794 0 \nL 794 531 \nz\n\" transform=\"scale(0.015625)\"/>\n        <path id=\"DejaVuSans-2e\" d=\"M 684 794 \nL 1344 794 \nL 1344 0 \nL 684 0 \nL 684 794 \nz\n\" transform=\"scale(0.015625)\"/>\n       </defs>\n       <use xlink:href=\"#DejaVuSans-2212\"/>\n       <use xlink:href=\"#DejaVuSans-31\" x=\"83.789062\"/>\n       <use xlink:href=\"#DejaVuSans-2e\" x=\"147.412109\"/>\n       <use xlink:href=\"#DejaVuSans-30\" x=\"179.199219\"/>\n       <use xlink:href=\"#DejaVuSans-30\" x=\"242.822266\"/>\n      </g>\n     </g>\n    </g>\n    <g id=\"ytick_2\">\n     <g id=\"line2d_13\">\n      <path d=\"M 42.467875 245.90991 \nL 399.587875 245.90991 \n\" clip-path=\"url(#pf0a3a3ca89)\" style=\"fill: none; stroke: #cccccc; stroke-width: 0.8; stroke-linecap: round\"/>\n     </g>\n     <g id=\"line2d_14\">\n      <g>\n       <use xlink:href=\"#m9410e7043b\" x=\"42.467875\" y=\"245.90991\" style=\"fill: #262626; stroke: #262626\"/>\n      </g>\n     </g>\n     <g id=\"text_7\">\n      <!-- −0.75 -->\n      <g style=\"fill: #262626\" transform=\"translate(7.2 249.253223) scale(0.088 -0.088)\">\n       <defs>\n        <path id=\"DejaVuSans-37\" d=\"M 525 4666 \nL 3525 4666 \nL 3525 4397 \nL 1831 0 \nL 1172 0 \nL 2766 4134 \nL 525 4134 \nL 525 4666 \nz\n\" transform=\"scale(0.015625)\"/>\n        <path id=\"DejaVuSans-35\" d=\"M 691 4666 \nL 3169 4666 \nL 3169 4134 \nL 1269 4134 \nL 1269 2991 \nQ 1406 3038 1543 3061 \nQ 1681 3084 1819 3084 \nQ 2600 3084 3056 2656 \nQ 3513 2228 3513 1497 \nQ 3513 744 3044 326 \nQ 2575 -91 1722 -91 \nQ 1428 -91 1123 -41 \nQ 819 9 494 109 \nL 494 744 \nQ 775 591 1075 516 \nQ 1375 441 1709 441 \nQ 2250 441 2565 725 \nQ 2881 1009 2881 1497 \nQ 2881 1984 2565 2268 \nQ 2250 2553 1709 2553 \nQ 1456 2553 1204 2497 \nQ 953 2441 691 2322 \nL 691 4666 \nz\n\" transform=\"scale(0.015625)\"/>\n       </defs>\n       <use xlink:href=\"#DejaVuSans-2212\"/>\n       <use xlink:href=\"#DejaVuSans-30\" x=\"83.789062\"/>\n       <use xlink:href=\"#DejaVuSans-2e\" x=\"147.412109\"/>\n       <use xlink:href=\"#DejaVuSans-37\" x=\"179.199219\"/>\n       <use xlink:href=\"#DejaVuSans-35\" x=\"242.822266\"/>\n      </g>\n     </g>\n    </g>\n    <g id=\"ytick_3\">\n     <g id=\"line2d_15\">\n      <path d=\"M 42.467875 212.632233 \nL 399.587875 212.632233 \n\" clip-path=\"url(#pf0a3a3ca89)\" style=\"fill: none; stroke: #cccccc; stroke-width: 0.8; stroke-linecap: round\"/>\n     </g>\n     <g id=\"line2d_16\">\n      <g>\n       <use xlink:href=\"#m9410e7043b\" x=\"42.467875\" y=\"212.632233\" style=\"fill: #262626; stroke: #262626\"/>\n      </g>\n     </g>\n     <g id=\"text_8\">\n      <!-- −0.50 -->\n      <g style=\"fill: #262626\" transform=\"translate(7.2 215.975545) scale(0.088 -0.088)\">\n       <use xlink:href=\"#DejaVuSans-2212\"/>\n       <use xlink:href=\"#DejaVuSans-30\" x=\"83.789062\"/>\n       <use xlink:href=\"#DejaVuSans-2e\" x=\"147.412109\"/>\n       <use xlink:href=\"#DejaVuSans-35\" x=\"179.199219\"/>\n       <use xlink:href=\"#DejaVuSans-30\" x=\"242.822266\"/>\n      </g>\n     </g>\n    </g>\n    <g id=\"ytick_4\">\n     <g id=\"line2d_17\">\n      <path d=\"M 42.467875 179.354555 \nL 399.587875 179.354555 \n\" clip-path=\"url(#pf0a3a3ca89)\" style=\"fill: none; stroke: #cccccc; stroke-width: 0.8; stroke-linecap: round\"/>\n     </g>\n     <g id=\"line2d_18\">\n      <g>\n       <use xlink:href=\"#m9410e7043b\" x=\"42.467875\" y=\"179.354555\" style=\"fill: #262626; stroke: #262626\"/>\n      </g>\n     </g>\n     <g id=\"text_9\">\n      <!-- −0.25 -->\n      <g style=\"fill: #262626\" transform=\"translate(7.2 182.697868) scale(0.088 -0.088)\">\n       <use xlink:href=\"#DejaVuSans-2212\"/>\n       <use xlink:href=\"#DejaVuSans-30\" x=\"83.789062\"/>\n       <use xlink:href=\"#DejaVuSans-2e\" x=\"147.412109\"/>\n       <use xlink:href=\"#DejaVuSans-32\" x=\"179.199219\"/>\n       <use xlink:href=\"#DejaVuSans-35\" x=\"242.822266\"/>\n      </g>\n     </g>\n    </g>\n    <g id=\"ytick_5\">\n     <g id=\"line2d_19\">\n      <path d=\"M 42.467875 146.076878 \nL 399.587875 146.076878 \n\" clip-path=\"url(#pf0a3a3ca89)\" style=\"fill: none; stroke: #cccccc; stroke-width: 0.8; stroke-linecap: round\"/>\n     </g>\n     <g id=\"line2d_20\">\n      <g>\n       <use xlink:href=\"#m9410e7043b\" x=\"42.467875\" y=\"146.076878\" style=\"fill: #262626; stroke: #262626\"/>\n      </g>\n     </g>\n     <g id=\"text_10\">\n      <!-- 0.00 -->\n      <g style=\"fill: #262626\" transform=\"translate(14.574125 149.42019) scale(0.088 -0.088)\">\n       <use xlink:href=\"#DejaVuSans-30\"/>\n       <use xlink:href=\"#DejaVuSans-2e\" x=\"63.623047\"/>\n       <use xlink:href=\"#DejaVuSans-30\" x=\"95.410156\"/>\n       <use xlink:href=\"#DejaVuSans-30\" x=\"159.033203\"/>\n      </g>\n     </g>\n    </g>\n    <g id=\"ytick_6\">\n     <g id=\"line2d_21\">\n      <path d=\"M 42.467875 112.7992 \nL 399.587875 112.7992 \n\" clip-path=\"url(#pf0a3a3ca89)\" style=\"fill: none; stroke: #cccccc; stroke-width: 0.8; stroke-linecap: round\"/>\n     </g>\n     <g id=\"line2d_22\">\n      <g>\n       <use xlink:href=\"#m9410e7043b\" x=\"42.467875\" y=\"112.7992\" style=\"fill: #262626; stroke: #262626\"/>\n      </g>\n     </g>\n     <g id=\"text_11\">\n      <!-- 0.25 -->\n      <g style=\"fill: #262626\" transform=\"translate(14.574125 116.142513) scale(0.088 -0.088)\">\n       <use xlink:href=\"#DejaVuSans-30\"/>\n       <use xlink:href=\"#DejaVuSans-2e\" x=\"63.623047\"/>\n       <use xlink:href=\"#DejaVuSans-32\" x=\"95.410156\"/>\n       <use xlink:href=\"#DejaVuSans-35\" x=\"159.033203\"/>\n      </g>\n     </g>\n    </g>\n    <g id=\"ytick_7\">\n     <g id=\"line2d_23\">\n      <path d=\"M 42.467875 79.521523 \nL 399.587875 79.521523 \n\" clip-path=\"url(#pf0a3a3ca89)\" style=\"fill: none; stroke: #cccccc; stroke-width: 0.8; stroke-linecap: round\"/>\n     </g>\n     <g id=\"line2d_24\">\n      <g>\n       <use xlink:href=\"#m9410e7043b\" x=\"42.467875\" y=\"79.521523\" style=\"fill: #262626; stroke: #262626\"/>\n      </g>\n     </g>\n     <g id=\"text_12\">\n      <!-- 0.50 -->\n      <g style=\"fill: #262626\" transform=\"translate(14.574125 82.864835) scale(0.088 -0.088)\">\n       <use xlink:href=\"#DejaVuSans-30\"/>\n       <use xlink:href=\"#DejaVuSans-2e\" x=\"63.623047\"/>\n       <use xlink:href=\"#DejaVuSans-35\" x=\"95.410156\"/>\n       <use xlink:href=\"#DejaVuSans-30\" x=\"159.033203\"/>\n      </g>\n     </g>\n    </g>\n    <g id=\"ytick_8\">\n     <g id=\"line2d_25\">\n      <path d=\"M 42.467875 46.243845 \nL 399.587875 46.243845 \n\" clip-path=\"url(#pf0a3a3ca89)\" style=\"fill: none; stroke: #cccccc; stroke-width: 0.8; stroke-linecap: round\"/>\n     </g>\n     <g id=\"line2d_26\">\n      <g>\n       <use xlink:href=\"#m9410e7043b\" x=\"42.467875\" y=\"46.243845\" style=\"fill: #262626; stroke: #262626\"/>\n      </g>\n     </g>\n     <g id=\"text_13\">\n      <!-- 0.75 -->\n      <g style=\"fill: #262626\" transform=\"translate(14.574125 49.587158) scale(0.088 -0.088)\">\n       <use xlink:href=\"#DejaVuSans-30\"/>\n       <use xlink:href=\"#DejaVuSans-2e\" x=\"63.623047\"/>\n       <use xlink:href=\"#DejaVuSans-37\" x=\"95.410156\"/>\n       <use xlink:href=\"#DejaVuSans-35\" x=\"159.033203\"/>\n      </g>\n     </g>\n    </g>\n   </g>\n   <g id=\"line2d_27\">\n    <path d=\"M 58.700602 34.874721 \nL 59.810397 35.240849 \nL 60.999462 35.877445 \nL 62.34707 36.868396 \nL 64.011762 38.3904 \nL 66.389893 40.897364 \nL 69.045473 44.002479 \nL 70.868707 46.468973 \nL 72.374857 48.886823 \nL 73.801735 51.612375 \nL 75.26825 54.919934 \nL 76.85367 59.066399 \nL 78.835447 64.914363 \nL 85.454578 84.976384 \nL 88.030887 91.67583 \nL 94.650019 108.541181 \nL 99.604459 122.233895 \nL 103.092385 132.344409 \nL 105.193067 139.13107 \nL 107.095572 146.038006 \nL 109.196255 154.537752 \nL 115.300125 179.894836 \nL 116.766639 184.671434 \nL 118.034976 188.074086 \nL 119.184406 190.556429 \nL 120.294201 192.441572 \nL 121.36436 193.841375 \nL 122.474154 194.940206 \nL 123.742491 195.87479 \nL 125.407183 196.799225 \nL 130.956155 199.690646 \nL 134.008091 201.627848 \nL 135.910596 203.076993 \nL 137.297839 204.405116 \nL 138.52654 205.892035 \nL 139.67597 207.636527 \nL 140.8254 209.791326 \nL 142.054101 212.595037 \nL 143.401709 216.268355 \nL 144.98713 221.29109 \nL 147.484167 230.08301 \nL 149.862299 238.175082 \nL 151.289177 242.28036 \nL 152.478243 245.049789 \nL 153.508766 246.902444 \nL 154.420383 248.104189 \nL 155.252729 248.854591 \nL 156.04544 249.285773 \nL 156.83815 249.474655 \nL 157.710132 249.454098 \nL 158.819926 249.185515 \nL 162.228581 248.189269 \nL 163.179833 248.24394 \nL 164.051815 248.523269 \nL 164.923796 249.046301 \nL 165.835413 249.861114 \nL 166.865937 251.097751 \nL 168.094638 252.950076 \nL 169.75933 255.911804 \nL 173.405798 262.517324 \nL 174.793041 264.513366 \nL 176.021742 265.904828 \nL 177.171172 266.883537 \nL 178.360238 267.607767 \nL 179.747481 268.181304 \nL 184.701921 269.977261 \nL 186.366613 271.003859 \nL 191.003968 274.04984 \nL 192.113763 274.41123 \nL 193.104651 274.510118 \nL 194.095539 274.381595 \nL 195.126063 274.01213 \nL 196.275493 273.351211 \nL 197.781642 272.200377 \nL 201.983008 268.8366 \nL 203.568428 267.948269 \nL 208.086878 265.648627 \nL 209.117401 264.699302 \nL 210.108289 263.473166 \nL 211.099177 261.888583 \nL 212.169336 259.744267 \nL 213.358402 256.83823 \nL 214.745645 252.828038 \nL 216.608515 246.695772 \nL 221.166599 231.423392 \nL 222.910562 226.503912 \nL 224.61489 222.342455 \nL 226.596666 218.102107 \nL 239.359303 192.412842 \nL 242.688687 186.038231 \nL 244.274108 182.466553 \nL 245.700986 178.689653 \nL 247.127865 174.262093 \nL 248.67365 168.697631 \nL 250.496884 161.23206 \nL 253.509184 147.751594 \nL 256.085493 136.647503 \nL 257.78982 130.253591 \nL 259.216699 125.716233 \nL 260.524671 122.265551 \nL 261.753372 119.625464 \nL 262.982073 117.508401 \nL 264.25041 115.773424 \nL 265.677288 114.210795 \nL 268.174326 111.889404 \nL 270.116467 109.927097 \nL 271.662252 108.036101 \nL 273.247673 105.7323 \nL 275.229449 102.426893 \nL 278.994823 96.076871 \nL 280.342431 94.284688 \nL 281.452225 93.160947 \nL 282.403478 92.493472 \nL 283.275459 92.137653 \nL 284.107805 92.029051 \nL 284.940151 92.139438 \nL 285.851768 92.494099 \nL 286.882292 93.153867 \nL 288.110993 94.228275 \nL 289.775685 96.010953 \nL 294.809396 101.586346 \nL 296.711901 103.265174 \nL 298.535135 104.587316 \nL 300.239462 105.556016 \nL 301.705976 106.142966 \nL 302.974313 106.418348 \nL 304.123743 106.440387 \nL 305.193902 106.236983 \nL 306.264061 105.799834 \nL 307.373856 105.096305 \nL 308.602557 104.041201 \nL 310.108707 102.433697 \nL 315.102782 96.837446 \nL 316.371119 95.886492 \nL 317.59982 95.242281 \nL 318.907792 94.814891 \nL 320.968839 94.42295 \nL 322.593895 94.015382 \nL 323.70369 93.511156 \nL 324.734213 92.794127 \nL 325.764737 91.790822 \nL 326.834896 90.423056 \nL 328.023962 88.520071 \nL 329.411205 85.849441 \nL 331.194803 81.893578 \nL 342.72874 54.703827 \nL 347.762451 42.736534 \nL 349.387507 39.525183 \nL 350.735115 37.327131 \nL 351.963816 35.733795 \nL 353.113246 34.596807 \nL 354.262676 33.773671 \nL 355.451742 33.203094 \nL 356.759714 32.831947 \nL 358.305499 32.631848 \nL 360.366546 32.60355 \nL 362.665406 32.790596 \nL 364.647182 33.171142 \nL 366.510052 33.759474 \nL 368.888183 34.769671 \nL 371.662669 35.904252 \nL 373.129184 36.262262 \nL 374.437156 36.360298 \nL 375.784763 36.233739 \nL 377.370184 35.846093 \nL 381.294101 34.776818 \nL 382.522802 34.744255 \nL 383.355148 34.865824 \nL 383.355148 34.865824 \n\" clip-path=\"url(#pf0a3a3ca89)\" style=\"fill: none; stroke: #1f77b4; stroke-width: 1.2; stroke-linecap: round\"/>\n   </g>\n   <g id=\"line2d_28\">\n    <path d=\"M 58.700602 55.100207 \nL 62.307435 52.813494 \nL 65.399005 51.108237 \nL 68.133856 49.84777 \nL 70.551623 48.971973 \nL 72.731576 48.414009 \nL 74.713352 48.133614 \nL 76.536586 48.100113 \nL 78.201278 48.288212 \nL 79.786699 48.691376 \nL 81.292849 49.30637 \nL 82.719727 50.126494 \nL 84.146606 51.208612 \nL 85.533849 52.544198 \nL 86.921093 54.194316 \nL 88.308336 56.196836 \nL 89.695579 58.592392 \nL 91.122458 61.511353 \nL 92.588972 65.041408 \nL 94.095122 69.27814 \nL 95.640907 74.32157 \nL 97.226328 80.270076 \nL 98.89102 87.391063 \nL 100.674618 96.015161 \nL 102.656394 106.740156 \nL 104.955254 120.475055 \nL 108.08646 140.677776 \nL 113.675069 176.852377 \nL 116.132471 191.176057 \nL 118.272789 202.366912 \nL 120.21493 211.382204 \nL 122.077799 219.00115 \nL 123.861397 225.387565 \nL 125.60536 230.829368 \nL 127.309688 235.444758 \nL 129.014015 239.431798 \nL 130.718342 242.85529 \nL 132.383034 245.713419 \nL 134.047726 248.143526 \nL 135.712418 250.19158 \nL 137.37711 251.897969 \nL 139.081437 253.327717 \nL 140.785764 254.468843 \nL 142.529727 255.367106 \nL 144.27369 256.018701 \nL 146.096924 256.460595 \nL 147.959794 256.682279 \nL 149.901934 256.688268 \nL 151.923346 256.472199 \nL 154.063664 256.018543 \nL 156.322888 255.311795 \nL 158.740655 254.320812 \nL 161.356599 253.002544 \nL 164.170721 251.32896 \nL 167.222656 249.248416 \nL 170.55204 246.701939 \nL 174.198508 243.625434 \nL 178.241331 239.914377 \nL 182.720145 235.494066 \nL 187.793491 230.165416 \nL 193.580277 223.755003 \nL 200.318316 215.946961 \nL 208.285055 206.36263 \nL 218.1543 194.1248 \nL 233.136526 175.14418 \nL 248.039482 156.368924 \nL 256.045857 146.637982 \nL 262.427176 139.219788 \nL 267.936513 133.146194 \nL 272.890953 128.009063 \nL 277.449038 123.599678 \nL 281.690039 119.800988 \nL 285.732862 116.472692 \nL 289.656778 113.525812 \nL 293.541059 110.88409 \nL 297.464976 108.482989 \nL 301.547434 106.24566 \nL 306.026248 104.049635 \nL 311.416679 101.666279 \nL 328.737401 94.203862 \nL 333.454028 91.806179 \nL 337.932842 89.281165 \nL 342.411655 86.499723 \nL 347.088647 83.328698 \nL 352.161993 79.613608 \nL 358.107321 74.972825 \nL 367.461304 67.342076 \nL 375.90367 60.56134 \nL 380.897745 56.831332 \nL 383.355148 55.126829 \nL 383.355148 55.126829 \n\" clip-path=\"url(#pf0a3a3ca89)\" style=\"fill: none; stroke: #ff7f0e; stroke-width: 1.2; stroke-linecap: round\"/>\n   </g>\n   <g id=\"patch_3\">\n    <path d=\"M 42.467875 286.6065 \nL 42.467875 20.4945 \n\" style=\"fill: none; stroke: #262626; stroke-linejoin: miter; stroke-linecap: square\"/>\n   </g>\n   <g id=\"patch_4\">\n    <path d=\"M 399.587875 286.6065 \nL 399.587875 20.4945 \n\" style=\"fill: none; stroke: #262626; stroke-linejoin: miter; stroke-linecap: square\"/>\n   </g>\n   <g id=\"patch_5\">\n    <path d=\"M 42.467875 286.6065 \nL 399.587875 286.6065 \n\" style=\"fill: none; stroke: #262626; stroke-linejoin: miter; stroke-linecap: square\"/>\n   </g>\n   <g id=\"patch_6\">\n    <path d=\"M 42.467875 20.4945 \nL 399.587875 20.4945 \n\" style=\"fill: none; stroke: #262626; stroke-linejoin: miter; stroke-linecap: square\"/>\n   </g>\n   <g id=\"text_14\">\n    <!-- Initial Condition and Solution -->\n    <g style=\"fill: #262626\" transform=\"translate(151.679125 14.4945) scale(0.096 -0.096)\">\n     <defs>\n      <path id=\"DejaVuSans-49\" d=\"M 628 4666 \nL 1259 4666 \nL 1259 0 \nL 628 0 \nL 628 4666 \nz\n\" transform=\"scale(0.015625)\"/>\n      <path id=\"DejaVuSans-6e\" d=\"M 3513 2113 \nL 3513 0 \nL 2938 0 \nL 2938 2094 \nQ 2938 2591 2744 2837 \nQ 2550 3084 2163 3084 \nQ 1697 3084 1428 2787 \nQ 1159 2491 1159 1978 \nL 1159 0 \nL 581 0 \nL 581 3500 \nL 1159 3500 \nL 1159 2956 \nQ 1366 3272 1645 3428 \nQ 1925 3584 2291 3584 \nQ 2894 3584 3203 3211 \nQ 3513 2838 3513 2113 \nz\n\" transform=\"scale(0.015625)\"/>\n      <path id=\"DejaVuSans-69\" d=\"M 603 3500 \nL 1178 3500 \nL 1178 0 \nL 603 0 \nL 603 3500 \nz\nM 603 4863 \nL 1178 4863 \nL 1178 4134 \nL 603 4134 \nL 603 4863 \nz\n\" transform=\"scale(0.015625)\"/>\n      <path id=\"DejaVuSans-74\" d=\"M 1172 4494 \nL 1172 3500 \nL 2356 3500 \nL 2356 3053 \nL 1172 3053 \nL 1172 1153 \nQ 1172 725 1289 603 \nQ 1406 481 1766 481 \nL 2356 481 \nL 2356 0 \nL 1766 0 \nQ 1100 0 847 248 \nQ 594 497 594 1153 \nL 594 3053 \nL 172 3053 \nL 172 3500 \nL 594 3500 \nL 594 4494 \nL 1172 4494 \nz\n\" transform=\"scale(0.015625)\"/>\n      <path id=\"DejaVuSans-61\" d=\"M 2194 1759 \nQ 1497 1759 1228 1600 \nQ 959 1441 959 1056 \nQ 959 750 1161 570 \nQ 1363 391 1709 391 \nQ 2188 391 2477 730 \nQ 2766 1069 2766 1631 \nL 2766 1759 \nL 2194 1759 \nz\nM 3341 1997 \nL 3341 0 \nL 2766 0 \nL 2766 531 \nQ 2569 213 2275 61 \nQ 1981 -91 1556 -91 \nQ 1019 -91 701 211 \nQ 384 513 384 1019 \nQ 384 1609 779 1909 \nQ 1175 2209 1959 2209 \nL 2766 2209 \nL 2766 2266 \nQ 2766 2663 2505 2880 \nQ 2244 3097 1772 3097 \nQ 1472 3097 1187 3025 \nQ 903 2953 641 2809 \nL 641 3341 \nQ 956 3463 1253 3523 \nQ 1550 3584 1831 3584 \nQ 2591 3584 2966 3190 \nQ 3341 2797 3341 1997 \nz\n\" transform=\"scale(0.015625)\"/>\n      <path id=\"DejaVuSans-6c\" d=\"M 603 4863 \nL 1178 4863 \nL 1178 0 \nL 603 0 \nL 603 4863 \nz\n\" transform=\"scale(0.015625)\"/>\n      <path id=\"DejaVuSans-20\" transform=\"scale(0.015625)\"/>\n      <path id=\"DejaVuSans-43\" d=\"M 4122 4306 \nL 4122 3641 \nQ 3803 3938 3442 4084 \nQ 3081 4231 2675 4231 \nQ 1875 4231 1450 3742 \nQ 1025 3253 1025 2328 \nQ 1025 1406 1450 917 \nQ 1875 428 2675 428 \nQ 3081 428 3442 575 \nQ 3803 722 4122 1019 \nL 4122 359 \nQ 3791 134 3420 21 \nQ 3050 -91 2638 -91 \nQ 1578 -91 968 557 \nQ 359 1206 359 2328 \nQ 359 3453 968 4101 \nQ 1578 4750 2638 4750 \nQ 3056 4750 3426 4639 \nQ 3797 4528 4122 4306 \nz\n\" transform=\"scale(0.015625)\"/>\n      <path id=\"DejaVuSans-6f\" d=\"M 1959 3097 \nQ 1497 3097 1228 2736 \nQ 959 2375 959 1747 \nQ 959 1119 1226 758 \nQ 1494 397 1959 397 \nQ 2419 397 2687 759 \nQ 2956 1122 2956 1747 \nQ 2956 2369 2687 2733 \nQ 2419 3097 1959 3097 \nz\nM 1959 3584 \nQ 2709 3584 3137 3096 \nQ 3566 2609 3566 1747 \nQ 3566 888 3137 398 \nQ 2709 -91 1959 -91 \nQ 1206 -91 779 398 \nQ 353 888 353 1747 \nQ 353 2609 779 3096 \nQ 1206 3584 1959 3584 \nz\n\" transform=\"scale(0.015625)\"/>\n      <path id=\"DejaVuSans-64\" d=\"M 2906 2969 \nL 2906 4863 \nL 3481 4863 \nL 3481 0 \nL 2906 0 \nL 2906 525 \nQ 2725 213 2448 61 \nQ 2172 -91 1784 -91 \nQ 1150 -91 751 415 \nQ 353 922 353 1747 \nQ 353 2572 751 3078 \nQ 1150 3584 1784 3584 \nQ 2172 3584 2448 3432 \nQ 2725 3281 2906 2969 \nz\nM 947 1747 \nQ 947 1113 1208 752 \nQ 1469 391 1925 391 \nQ 2381 391 2643 752 \nQ 2906 1113 2906 1747 \nQ 2906 2381 2643 2742 \nQ 2381 3103 1925 3103 \nQ 1469 3103 1208 2742 \nQ 947 2381 947 1747 \nz\n\" transform=\"scale(0.015625)\"/>\n      <path id=\"DejaVuSans-53\" d=\"M 3425 4513 \nL 3425 3897 \nQ 3066 4069 2747 4153 \nQ 2428 4238 2131 4238 \nQ 1616 4238 1336 4038 \nQ 1056 3838 1056 3469 \nQ 1056 3159 1242 3001 \nQ 1428 2844 1947 2747 \nL 2328 2669 \nQ 3034 2534 3370 2195 \nQ 3706 1856 3706 1288 \nQ 3706 609 3251 259 \nQ 2797 -91 1919 -91 \nQ 1588 -91 1214 -16 \nQ 841 59 441 206 \nL 441 856 \nQ 825 641 1194 531 \nQ 1563 422 1919 422 \nQ 2459 422 2753 634 \nQ 3047 847 3047 1241 \nQ 3047 1584 2836 1778 \nQ 2625 1972 2144 2069 \nL 1759 2144 \nQ 1053 2284 737 2584 \nQ 422 2884 422 3419 \nQ 422 4038 858 4394 \nQ 1294 4750 2059 4750 \nQ 2388 4750 2728 4690 \nQ 3069 4631 3425 4513 \nz\n\" transform=\"scale(0.015625)\"/>\n      <path id=\"DejaVuSans-75\" d=\"M 544 1381 \nL 544 3500 \nL 1119 3500 \nL 1119 1403 \nQ 1119 906 1312 657 \nQ 1506 409 1894 409 \nQ 2359 409 2629 706 \nQ 2900 1003 2900 1516 \nL 2900 3500 \nL 3475 3500 \nL 3475 0 \nL 2900 0 \nL 2900 538 \nQ 2691 219 2414 64 \nQ 2138 -91 1772 -91 \nQ 1169 -91 856 284 \nQ 544 659 544 1381 \nz\nM 1991 3584 \nL 1991 3584 \nz\n\" transform=\"scale(0.015625)\"/>\n     </defs>\n     <use xlink:href=\"#DejaVuSans-49\"/>\n     <use xlink:href=\"#DejaVuSans-6e\" x=\"29.492188\"/>\n     <use xlink:href=\"#DejaVuSans-69\" x=\"92.871094\"/>\n     <use xlink:href=\"#DejaVuSans-74\" x=\"120.654297\"/>\n     <use xlink:href=\"#DejaVuSans-69\" x=\"159.863281\"/>\n     <use xlink:href=\"#DejaVuSans-61\" x=\"187.646484\"/>\n     <use xlink:href=\"#DejaVuSans-6c\" x=\"248.925781\"/>\n     <use xlink:href=\"#DejaVuSans-20\" x=\"276.708984\"/>\n     <use xlink:href=\"#DejaVuSans-43\" x=\"308.496094\"/>\n     <use xlink:href=\"#DejaVuSans-6f\" x=\"378.320312\"/>\n     <use xlink:href=\"#DejaVuSans-6e\" x=\"439.501953\"/>\n     <use xlink:href=\"#DejaVuSans-64\" x=\"502.880859\"/>\n     <use xlink:href=\"#DejaVuSans-69\" x=\"566.357422\"/>\n     <use xlink:href=\"#DejaVuSans-74\" x=\"594.140625\"/>\n     <use xlink:href=\"#DejaVuSans-69\" x=\"633.349609\"/>\n     <use xlink:href=\"#DejaVuSans-6f\" x=\"661.132812\"/>\n     <use xlink:href=\"#DejaVuSans-6e\" x=\"722.314453\"/>\n     <use xlink:href=\"#DejaVuSans-20\" x=\"785.693359\"/>\n     <use xlink:href=\"#DejaVuSans-61\" x=\"817.480469\"/>\n     <use xlink:href=\"#DejaVuSans-6e\" x=\"878.759766\"/>\n     <use xlink:href=\"#DejaVuSans-64\" x=\"942.138672\"/>\n     <use xlink:href=\"#DejaVuSans-20\" x=\"1005.615234\"/>\n     <use xlink:href=\"#DejaVuSans-53\" x=\"1037.402344\"/>\n     <use xlink:href=\"#DejaVuSans-6f\" x=\"1100.878906\"/>\n     <use xlink:href=\"#DejaVuSans-6c\" x=\"1162.060547\"/>\n     <use xlink:href=\"#DejaVuSans-75\" x=\"1189.84375\"/>\n     <use xlink:href=\"#DejaVuSans-74\" x=\"1253.222656\"/>\n     <use xlink:href=\"#DejaVuSans-69\" x=\"1292.431641\"/>\n     <use xlink:href=\"#DejaVuSans-6f\" x=\"1320.214844\"/>\n     <use xlink:href=\"#DejaVuSans-6e\" x=\"1381.396484\"/>\n    </g>\n   </g>\n   <g id=\"legend_1\">\n    <g id=\"patch_7\">\n     <path d=\"M 252.897375 282.2065 \nL 393.427875 282.2065 \nQ 395.187875 282.2065 395.187875 280.4465 \nL 395.187875 255.493 \nQ 395.187875 253.733 393.427875 253.733 \nL 252.897375 253.733 \nQ 251.137375 253.733 251.137375 255.493 \nL 251.137375 280.4465 \nQ 251.137375 282.2065 252.897375 282.2065 \nz\n\" style=\"fill: #ffffff; opacity: 0.8; stroke: #cccccc; stroke-width: 0.8; stroke-linejoin: miter\"/>\n    </g>\n    <g id=\"line2d_29\">\n     <path d=\"M 254.657375 260.859625 \nL 263.457375 260.859625 \nL 272.257375 260.859625 \n\" style=\"fill: none; stroke: #1f77b4; stroke-width: 1.2; stroke-linecap: round\"/>\n    </g>\n    <g id=\"text_15\">\n     <!-- Initial Condition: $a$ -->\n     <g style=\"fill: #262626\" transform=\"translate(279.297375 263.939625) scale(0.088 -0.088)\">\n      <defs>\n       <path id=\"DejaVuSans-3a\" d=\"M 750 794 \nL 1409 794 \nL 1409 0 \nL 750 0 \nL 750 794 \nz\nM 750 3309 \nL 1409 3309 \nL 1409 2516 \nL 750 2516 \nL 750 3309 \nz\n\" transform=\"scale(0.015625)\"/>\n       <path id=\"DejaVuSans-Oblique-61\" d=\"M 3438 1997 \nL 3047 0 \nL 2472 0 \nL 2578 531 \nQ 2325 219 2001 64 \nQ 1678 -91 1281 -91 \nQ 834 -91 548 182 \nQ 263 456 263 884 \nQ 263 1497 752 1853 \nQ 1241 2209 2100 2209 \nL 2900 2209 \nL 2931 2363 \nQ 2938 2388 2941 2417 \nQ 2944 2447 2944 2509 \nQ 2944 2788 2717 2942 \nQ 2491 3097 2081 3097 \nQ 1800 3097 1504 3025 \nQ 1209 2953 897 2809 \nL 997 3341 \nQ 1322 3463 1633 3523 \nQ 1944 3584 2234 3584 \nQ 2853 3584 3176 3315 \nQ 3500 3047 3500 2534 \nQ 3500 2431 3484 2292 \nQ 3469 2153 3438 1997 \nz\nM 2816 1759 \nL 2241 1759 \nQ 1534 1759 1195 1570 \nQ 856 1381 856 984 \nQ 856 709 1029 553 \nQ 1203 397 1509 397 \nQ 1978 397 2328 733 \nQ 2678 1069 2791 1631 \nL 2816 1759 \nz\n\" transform=\"scale(0.015625)\"/>\n      </defs>\n      <use xlink:href=\"#DejaVuSans-49\" transform=\"translate(0 0.015625)\"/>\n      <use xlink:href=\"#DejaVuSans-6e\" transform=\"translate(29.492188 0.015625)\"/>\n      <use xlink:href=\"#DejaVuSans-69\" transform=\"translate(92.871094 0.015625)\"/>\n      <use xlink:href=\"#DejaVuSans-74\" transform=\"translate(120.654297 0.015625)\"/>\n      <use xlink:href=\"#DejaVuSans-69\" transform=\"translate(159.863281 0.015625)\"/>\n      <use xlink:href=\"#DejaVuSans-61\" transform=\"translate(187.646484 0.015625)\"/>\n      <use xlink:href=\"#DejaVuSans-6c\" transform=\"translate(248.925781 0.015625)\"/>\n      <use xlink:href=\"#DejaVuSans-20\" transform=\"translate(276.708984 0.015625)\"/>\n      <use xlink:href=\"#DejaVuSans-43\" transform=\"translate(308.496094 0.015625)\"/>\n      <use xlink:href=\"#DejaVuSans-6f\" transform=\"translate(378.320312 0.015625)\"/>\n      <use xlink:href=\"#DejaVuSans-6e\" transform=\"translate(439.501953 0.015625)\"/>\n      <use xlink:href=\"#DejaVuSans-64\" transform=\"translate(502.880859 0.015625)\"/>\n      <use xlink:href=\"#DejaVuSans-69\" transform=\"translate(566.357422 0.015625)\"/>\n      <use xlink:href=\"#DejaVuSans-74\" transform=\"translate(594.140625 0.015625)\"/>\n      <use xlink:href=\"#DejaVuSans-69\" transform=\"translate(633.349609 0.015625)\"/>\n      <use xlink:href=\"#DejaVuSans-6f\" transform=\"translate(661.132812 0.015625)\"/>\n      <use xlink:href=\"#DejaVuSans-6e\" transform=\"translate(722.314453 0.015625)\"/>\n      <use xlink:href=\"#DejaVuSans-3a\" transform=\"translate(785.693359 0.015625)\"/>\n      <use xlink:href=\"#DejaVuSans-20\" transform=\"translate(819.384766 0.015625)\"/>\n      <use xlink:href=\"#DejaVuSans-Oblique-61\" transform=\"translate(851.171875 0.015625)\"/>\n     </g>\n    </g>\n    <g id=\"line2d_30\">\n     <path d=\"M 254.657375 273.776375 \nL 263.457375 273.776375 \nL 272.257375 273.776375 \n\" style=\"fill: none; stroke: #ff7f0e; stroke-width: 1.2; stroke-linecap: round\"/>\n    </g>\n    <g id=\"text_16\">\n     <!-- Solution after 1 time step -->\n     <g style=\"fill: #262626\" transform=\"translate(279.297375 276.856375) scale(0.088 -0.088)\">\n      <defs>\n       <path id=\"DejaVuSans-66\" d=\"M 2375 4863 \nL 2375 4384 \nL 1825 4384 \nQ 1516 4384 1395 4259 \nQ 1275 4134 1275 3809 \nL 1275 3500 \nL 2222 3500 \nL 2222 3053 \nL 1275 3053 \nL 1275 0 \nL 697 0 \nL 697 3053 \nL 147 3053 \nL 147 3500 \nL 697 3500 \nL 697 3744 \nQ 697 4328 969 4595 \nQ 1241 4863 1831 4863 \nL 2375 4863 \nz\n\" transform=\"scale(0.015625)\"/>\n       <path id=\"DejaVuSans-65\" d=\"M 3597 1894 \nL 3597 1613 \nL 953 1613 \nQ 991 1019 1311 708 \nQ 1631 397 2203 397 \nQ 2534 397 2845 478 \nQ 3156 559 3463 722 \nL 3463 178 \nQ 3153 47 2828 -22 \nQ 2503 -91 2169 -91 \nQ 1331 -91 842 396 \nQ 353 884 353 1716 \nQ 353 2575 817 3079 \nQ 1281 3584 2069 3584 \nQ 2775 3584 3186 3129 \nQ 3597 2675 3597 1894 \nz\nM 3022 2063 \nQ 3016 2534 2758 2815 \nQ 2500 3097 2075 3097 \nQ 1594 3097 1305 2825 \nQ 1016 2553 972 2059 \nL 3022 2063 \nz\n\" transform=\"scale(0.015625)\"/>\n       <path id=\"DejaVuSans-72\" d=\"M 2631 2963 \nQ 2534 3019 2420 3045 \nQ 2306 3072 2169 3072 \nQ 1681 3072 1420 2755 \nQ 1159 2438 1159 1844 \nL 1159 0 \nL 581 0 \nL 581 3500 \nL 1159 3500 \nL 1159 2956 \nQ 1341 3275 1631 3429 \nQ 1922 3584 2338 3584 \nQ 2397 3584 2469 3576 \nQ 2541 3569 2628 3553 \nL 2631 2963 \nz\n\" transform=\"scale(0.015625)\"/>\n       <path id=\"DejaVuSans-6d\" d=\"M 3328 2828 \nQ 3544 3216 3844 3400 \nQ 4144 3584 4550 3584 \nQ 5097 3584 5394 3201 \nQ 5691 2819 5691 2113 \nL 5691 0 \nL 5113 0 \nL 5113 2094 \nQ 5113 2597 4934 2840 \nQ 4756 3084 4391 3084 \nQ 3944 3084 3684 2787 \nQ 3425 2491 3425 1978 \nL 3425 0 \nL 2847 0 \nL 2847 2094 \nQ 2847 2600 2669 2842 \nQ 2491 3084 2119 3084 \nQ 1678 3084 1418 2786 \nQ 1159 2488 1159 1978 \nL 1159 0 \nL 581 0 \nL 581 3500 \nL 1159 3500 \nL 1159 2956 \nQ 1356 3278 1631 3431 \nQ 1906 3584 2284 3584 \nQ 2666 3584 2933 3390 \nQ 3200 3197 3328 2828 \nz\n\" transform=\"scale(0.015625)\"/>\n       <path id=\"DejaVuSans-73\" d=\"M 2834 3397 \nL 2834 2853 \nQ 2591 2978 2328 3040 \nQ 2066 3103 1784 3103 \nQ 1356 3103 1142 2972 \nQ 928 2841 928 2578 \nQ 928 2378 1081 2264 \nQ 1234 2150 1697 2047 \nL 1894 2003 \nQ 2506 1872 2764 1633 \nQ 3022 1394 3022 966 \nQ 3022 478 2636 193 \nQ 2250 -91 1575 -91 \nQ 1294 -91 989 -36 \nQ 684 19 347 128 \nL 347 722 \nQ 666 556 975 473 \nQ 1284 391 1588 391 \nQ 1994 391 2212 530 \nQ 2431 669 2431 922 \nQ 2431 1156 2273 1281 \nQ 2116 1406 1581 1522 \nL 1381 1569 \nQ 847 1681 609 1914 \nQ 372 2147 372 2553 \nQ 372 3047 722 3315 \nQ 1072 3584 1716 3584 \nQ 2034 3584 2315 3537 \nQ 2597 3491 2834 3397 \nz\n\" transform=\"scale(0.015625)\"/>\n       <path id=\"DejaVuSans-70\" d=\"M 1159 525 \nL 1159 -1331 \nL 581 -1331 \nL 581 3500 \nL 1159 3500 \nL 1159 2969 \nQ 1341 3281 1617 3432 \nQ 1894 3584 2278 3584 \nQ 2916 3584 3314 3078 \nQ 3713 2572 3713 1747 \nQ 3713 922 3314 415 \nQ 2916 -91 2278 -91 \nQ 1894 -91 1617 61 \nQ 1341 213 1159 525 \nz\nM 3116 1747 \nQ 3116 2381 2855 2742 \nQ 2594 3103 2138 3103 \nQ 1681 3103 1420 2742 \nQ 1159 2381 1159 1747 \nQ 1159 1113 1420 752 \nQ 1681 391 2138 391 \nQ 2594 391 2855 752 \nQ 3116 1113 3116 1747 \nz\n\" transform=\"scale(0.015625)\"/>\n      </defs>\n      <use xlink:href=\"#DejaVuSans-53\"/>\n      <use xlink:href=\"#DejaVuSans-6f\" x=\"63.476562\"/>\n      <use xlink:href=\"#DejaVuSans-6c\" x=\"124.658203\"/>\n      <use xlink:href=\"#DejaVuSans-75\" x=\"152.441406\"/>\n      <use xlink:href=\"#DejaVuSans-74\" x=\"215.820312\"/>\n      <use xlink:href=\"#DejaVuSans-69\" x=\"255.029297\"/>\n      <use xlink:href=\"#DejaVuSans-6f\" x=\"282.8125\"/>\n      <use xlink:href=\"#DejaVuSans-6e\" x=\"343.994141\"/>\n      <use xlink:href=\"#DejaVuSans-20\" x=\"407.373047\"/>\n      <use xlink:href=\"#DejaVuSans-61\" x=\"439.160156\"/>\n      <use xlink:href=\"#DejaVuSans-66\" x=\"500.439453\"/>\n      <use xlink:href=\"#DejaVuSans-74\" x=\"533.894531\"/>\n      <use xlink:href=\"#DejaVuSans-65\" x=\"573.103516\"/>\n      <use xlink:href=\"#DejaVuSans-72\" x=\"634.626953\"/>\n      <use xlink:href=\"#DejaVuSans-20\" x=\"675.740234\"/>\n      <use xlink:href=\"#DejaVuSans-31\" x=\"707.527344\"/>\n      <use xlink:href=\"#DejaVuSans-20\" x=\"771.150391\"/>\n      <use xlink:href=\"#DejaVuSans-74\" x=\"802.9375\"/>\n      <use xlink:href=\"#DejaVuSans-69\" x=\"842.146484\"/>\n      <use xlink:href=\"#DejaVuSans-6d\" x=\"869.929688\"/>\n      <use xlink:href=\"#DejaVuSans-65\" x=\"967.341797\"/>\n      <use xlink:href=\"#DejaVuSans-20\" x=\"1028.865234\"/>\n      <use xlink:href=\"#DejaVuSans-73\" x=\"1060.652344\"/>\n      <use xlink:href=\"#DejaVuSans-74\" x=\"1112.751953\"/>\n      <use xlink:href=\"#DejaVuSans-65\" x=\"1151.960938\"/>\n      <use xlink:href=\"#DejaVuSans-70\" x=\"1213.484375\"/>\n     </g>\n    </g>\n   </g>\n  </g>\n </g>\n <defs>\n  <clipPath id=\"pf0a3a3ca89\">\n   <rect x=\"42.467875\" y=\"20.4945\" width=\"357.12\" height=\"266.112\"/>\n  </clipPath>\n </defs>\n</svg>\n"
          },
          "metadata": {}
        }
      ]
    },
    {
      "cell_type": "code",
      "source": [
        "# Add channel dimension\n",
        "# This changes the shape of `a` and `u` from (batch_size, sequence_length)\n",
        "# to (batch_size, 1, sequence_length), adding a channel dimension in the middle.\n",
        "a = a[:, jnp.newaxis, :]\n",
        "u = u[:, jnp.newaxis, :]"
      ],
      "metadata": {
        "id": "AEZ4ZCIzbKh1"
      },
      "execution_count": 7,
      "outputs": []
    },
    {
      "cell_type": "code",
      "source": [
        "# The dataset is preconcatenated with the mesh.\n",
        "# Mesh is from 0 to 2 pi\n",
        "mesh = jnp.linspace(0, 2 * jnp.pi, u.shape[-1])"
      ],
      "metadata": {
        "id": "BIzrT7R2bwkA"
      },
      "execution_count": 8,
      "outputs": []
    },
    {
      "cell_type": "code",
      "source": [
        "fig, ax = plt.subplots()\n",
        "ax.plot(mesh, a[0, 0], label=\"initial condition\")\n",
        "ax.plot(mesh, u[0, 0], label=\"After 1 time unit\")\n",
        "ax.legend()\n",
        "ax.grid()"
      ],
      "metadata": {
        "colab": {
          "base_uri": "https://localhost:8080/",
          "height": 418
        },
        "id": "kX0hW4oNb3bf",
        "outputId": "097252e3-195b-460c-e29f-8edf48159832"
      },
      "execution_count": 9,
      "outputs": [
        {
          "output_type": "display_data",
          "data": {
            "text/plain": [
              "<Figure size 640x480 with 1 Axes>"
            ],
            "image/svg+xml": "<?xml version=\"1.0\" encoding=\"utf-8\" standalone=\"no\"?>\n<!DOCTYPE svg PUBLIC \"-//W3C//DTD SVG 1.1//EN\"\n  \"http://www.w3.org/Graphics/SVG/1.1/DTD/svg11.dtd\">\n<svg xmlns:xlink=\"http://www.w3.org/1999/xlink\" width=\"406.787875pt\" height=\"297.32875pt\" viewBox=\"0 0 406.787875 297.32875\" xmlns=\"http://www.w3.org/2000/svg\" version=\"1.1\">\n <metadata>\n  <rdf:RDF xmlns:dc=\"http://purl.org/dc/elements/1.1/\" xmlns:cc=\"http://creativecommons.org/ns#\" xmlns:rdf=\"http://www.w3.org/1999/02/22-rdf-syntax-ns#\">\n   <cc:Work>\n    <dc:type rdf:resource=\"http://purl.org/dc/dcmitype/StillImage\"/>\n    <dc:date>2024-11-07T21:47:56.853169</dc:date>\n    <dc:format>image/svg+xml</dc:format>\n    <dc:creator>\n     <cc:Agent>\n      <dc:title>Matplotlib v3.8.0, https://matplotlib.org/</dc:title>\n     </cc:Agent>\n    </dc:creator>\n   </cc:Work>\n  </rdf:RDF>\n </metadata>\n <defs>\n  <style type=\"text/css\">*{stroke-linejoin: round; stroke-linecap: butt}</style>\n </defs>\n <g id=\"figure_1\">\n  <g id=\"patch_1\">\n   <path d=\"M -0 297.32875 \nL 406.787875 297.32875 \nL 406.787875 0 \nL -0 0 \nz\n\" style=\"fill: #ffffff\"/>\n  </g>\n  <g id=\"axes_1\">\n   <g id=\"patch_2\">\n    <path d=\"M 42.467875 273.312 \nL 399.587875 273.312 \nL 399.587875 7.2 \nL 42.467875 7.2 \nz\n\" style=\"fill: #ffffff\"/>\n   </g>\n   <g id=\"matplotlib.axis_1\">\n    <g id=\"xtick_1\">\n     <g id=\"line2d_1\">\n      <path d=\"M 58.700602 273.312 \nL 58.700602 7.2 \n\" clip-path=\"url(#p38b29cce1f)\" style=\"fill: none; stroke: #cccccc; stroke-width: 0.8; stroke-linecap: round\"/>\n     </g>\n     <g id=\"line2d_2\">\n      <defs>\n       <path id=\"mba81530f87\" d=\"M 0 0 \nL 0 4.8 \n\" style=\"stroke: #262626\"/>\n      </defs>\n      <g>\n       <use xlink:href=\"#mba81530f87\" x=\"58.700602\" y=\"273.312\" style=\"fill: #262626; stroke: #262626\"/>\n      </g>\n     </g>\n     <g id=\"text_1\">\n      <!-- 0 -->\n      <g style=\"fill: #262626\" transform=\"translate(55.901102 288.298625) scale(0.088 -0.088)\">\n       <defs>\n        <path id=\"DejaVuSans-30\" d=\"M 2034 4250 \nQ 1547 4250 1301 3770 \nQ 1056 3291 1056 2328 \nQ 1056 1369 1301 889 \nQ 1547 409 2034 409 \nQ 2525 409 2770 889 \nQ 3016 1369 3016 2328 \nQ 3016 3291 2770 3770 \nQ 2525 4250 2034 4250 \nz\nM 2034 4750 \nQ 2819 4750 3233 4129 \nQ 3647 3509 3647 2328 \nQ 3647 1150 3233 529 \nQ 2819 -91 2034 -91 \nQ 1250 -91 836 529 \nQ 422 1150 422 2328 \nQ 422 3509 836 4129 \nQ 1250 4750 2034 4750 \nz\n\" transform=\"scale(0.015625)\"/>\n       </defs>\n       <use xlink:href=\"#DejaVuSans-30\"/>\n      </g>\n     </g>\n    </g>\n    <g id=\"xtick_2\">\n     <g id=\"line2d_3\">\n      <path d=\"M 110.370977 273.312 \nL 110.370977 7.2 \n\" clip-path=\"url(#p38b29cce1f)\" style=\"fill: none; stroke: #cccccc; stroke-width: 0.8; stroke-linecap: round\"/>\n     </g>\n     <g id=\"line2d_4\">\n      <g>\n       <use xlink:href=\"#mba81530f87\" x=\"110.370977\" y=\"273.312\" style=\"fill: #262626; stroke: #262626\"/>\n      </g>\n     </g>\n     <g id=\"text_2\">\n      <!-- 1 -->\n      <g style=\"fill: #262626\" transform=\"translate(107.571477 288.298625) scale(0.088 -0.088)\">\n       <defs>\n        <path id=\"DejaVuSans-31\" d=\"M 794 531 \nL 1825 531 \nL 1825 4091 \nL 703 3866 \nL 703 4441 \nL 1819 4666 \nL 2450 4666 \nL 2450 531 \nL 3481 531 \nL 3481 0 \nL 794 0 \nL 794 531 \nz\n\" transform=\"scale(0.015625)\"/>\n       </defs>\n       <use xlink:href=\"#DejaVuSans-31\"/>\n      </g>\n     </g>\n    </g>\n    <g id=\"xtick_3\">\n     <g id=\"line2d_5\">\n      <path d=\"M 162.041351 273.312 \nL 162.041351 7.2 \n\" clip-path=\"url(#p38b29cce1f)\" style=\"fill: none; stroke: #cccccc; stroke-width: 0.8; stroke-linecap: round\"/>\n     </g>\n     <g id=\"line2d_6\">\n      <g>\n       <use xlink:href=\"#mba81530f87\" x=\"162.041351\" y=\"273.312\" style=\"fill: #262626; stroke: #262626\"/>\n      </g>\n     </g>\n     <g id=\"text_3\">\n      <!-- 2 -->\n      <g style=\"fill: #262626\" transform=\"translate(159.241851 288.298625) scale(0.088 -0.088)\">\n       <defs>\n        <path id=\"DejaVuSans-32\" d=\"M 1228 531 \nL 3431 531 \nL 3431 0 \nL 469 0 \nL 469 531 \nQ 828 903 1448 1529 \nQ 2069 2156 2228 2338 \nQ 2531 2678 2651 2914 \nQ 2772 3150 2772 3378 \nQ 2772 3750 2511 3984 \nQ 2250 4219 1831 4219 \nQ 1534 4219 1204 4116 \nQ 875 4013 500 3803 \nL 500 4441 \nQ 881 4594 1212 4672 \nQ 1544 4750 1819 4750 \nQ 2544 4750 2975 4387 \nQ 3406 4025 3406 3419 \nQ 3406 3131 3298 2873 \nQ 3191 2616 2906 2266 \nQ 2828 2175 2409 1742 \nQ 1991 1309 1228 531 \nz\n\" transform=\"scale(0.015625)\"/>\n       </defs>\n       <use xlink:href=\"#DejaVuSans-32\"/>\n      </g>\n     </g>\n    </g>\n    <g id=\"xtick_4\">\n     <g id=\"line2d_7\">\n      <path d=\"M 213.711725 273.312 \nL 213.711725 7.2 \n\" clip-path=\"url(#p38b29cce1f)\" style=\"fill: none; stroke: #cccccc; stroke-width: 0.8; stroke-linecap: round\"/>\n     </g>\n     <g id=\"line2d_8\">\n      <g>\n       <use xlink:href=\"#mba81530f87\" x=\"213.711725\" y=\"273.312\" style=\"fill: #262626; stroke: #262626\"/>\n      </g>\n     </g>\n     <g id=\"text_4\">\n      <!-- 3 -->\n      <g style=\"fill: #262626\" transform=\"translate(210.912225 288.298625) scale(0.088 -0.088)\">\n       <defs>\n        <path id=\"DejaVuSans-33\" d=\"M 2597 2516 \nQ 3050 2419 3304 2112 \nQ 3559 1806 3559 1356 \nQ 3559 666 3084 287 \nQ 2609 -91 1734 -91 \nQ 1441 -91 1130 -33 \nQ 819 25 488 141 \nL 488 750 \nQ 750 597 1062 519 \nQ 1375 441 1716 441 \nQ 2309 441 2620 675 \nQ 2931 909 2931 1356 \nQ 2931 1769 2642 2001 \nQ 2353 2234 1838 2234 \nL 1294 2234 \nL 1294 2753 \nL 1863 2753 \nQ 2328 2753 2575 2939 \nQ 2822 3125 2822 3475 \nQ 2822 3834 2567 4026 \nQ 2313 4219 1838 4219 \nQ 1578 4219 1281 4162 \nQ 984 4106 628 3988 \nL 628 4550 \nQ 988 4650 1302 4700 \nQ 1616 4750 1894 4750 \nQ 2613 4750 3031 4423 \nQ 3450 4097 3450 3541 \nQ 3450 3153 3228 2886 \nQ 3006 2619 2597 2516 \nz\n\" transform=\"scale(0.015625)\"/>\n       </defs>\n       <use xlink:href=\"#DejaVuSans-33\"/>\n      </g>\n     </g>\n    </g>\n    <g id=\"xtick_5\">\n     <g id=\"line2d_9\">\n      <path d=\"M 265.382099 273.312 \nL 265.382099 7.2 \n\" clip-path=\"url(#p38b29cce1f)\" style=\"fill: none; stroke: #cccccc; stroke-width: 0.8; stroke-linecap: round\"/>\n     </g>\n     <g id=\"line2d_10\">\n      <g>\n       <use xlink:href=\"#mba81530f87\" x=\"265.382099\" y=\"273.312\" style=\"fill: #262626; stroke: #262626\"/>\n      </g>\n     </g>\n     <g id=\"text_5\">\n      <!-- 4 -->\n      <g style=\"fill: #262626\" transform=\"translate(262.582599 288.298625) scale(0.088 -0.088)\">\n       <defs>\n        <path id=\"DejaVuSans-34\" d=\"M 2419 4116 \nL 825 1625 \nL 2419 1625 \nL 2419 4116 \nz\nM 2253 4666 \nL 3047 4666 \nL 3047 1625 \nL 3713 1625 \nL 3713 1100 \nL 3047 1100 \nL 3047 0 \nL 2419 0 \nL 2419 1100 \nL 313 1100 \nL 313 1709 \nL 2253 4666 \nz\n\" transform=\"scale(0.015625)\"/>\n       </defs>\n       <use xlink:href=\"#DejaVuSans-34\"/>\n      </g>\n     </g>\n    </g>\n    <g id=\"xtick_6\">\n     <g id=\"line2d_11\">\n      <path d=\"M 317.052474 273.312 \nL 317.052474 7.2 \n\" clip-path=\"url(#p38b29cce1f)\" style=\"fill: none; stroke: #cccccc; stroke-width: 0.8; stroke-linecap: round\"/>\n     </g>\n     <g id=\"line2d_12\">\n      <g>\n       <use xlink:href=\"#mba81530f87\" x=\"317.052474\" y=\"273.312\" style=\"fill: #262626; stroke: #262626\"/>\n      </g>\n     </g>\n     <g id=\"text_6\">\n      <!-- 5 -->\n      <g style=\"fill: #262626\" transform=\"translate(314.252974 288.298625) scale(0.088 -0.088)\">\n       <defs>\n        <path id=\"DejaVuSans-35\" d=\"M 691 4666 \nL 3169 4666 \nL 3169 4134 \nL 1269 4134 \nL 1269 2991 \nQ 1406 3038 1543 3061 \nQ 1681 3084 1819 3084 \nQ 2600 3084 3056 2656 \nQ 3513 2228 3513 1497 \nQ 3513 744 3044 326 \nQ 2575 -91 1722 -91 \nQ 1428 -91 1123 -41 \nQ 819 9 494 109 \nL 494 744 \nQ 775 591 1075 516 \nQ 1375 441 1709 441 \nQ 2250 441 2565 725 \nQ 2881 1009 2881 1497 \nQ 2881 1984 2565 2268 \nQ 2250 2553 1709 2553 \nQ 1456 2553 1204 2497 \nQ 953 2441 691 2322 \nL 691 4666 \nz\n\" transform=\"scale(0.015625)\"/>\n       </defs>\n       <use xlink:href=\"#DejaVuSans-35\"/>\n      </g>\n     </g>\n    </g>\n    <g id=\"xtick_7\">\n     <g id=\"line2d_13\">\n      <path d=\"M 368.722848 273.312 \nL 368.722848 7.2 \n\" clip-path=\"url(#p38b29cce1f)\" style=\"fill: none; stroke: #cccccc; stroke-width: 0.8; stroke-linecap: round\"/>\n     </g>\n     <g id=\"line2d_14\">\n      <g>\n       <use xlink:href=\"#mba81530f87\" x=\"368.722848\" y=\"273.312\" style=\"fill: #262626; stroke: #262626\"/>\n      </g>\n     </g>\n     <g id=\"text_7\">\n      <!-- 6 -->\n      <g style=\"fill: #262626\" transform=\"translate(365.923348 288.298625) scale(0.088 -0.088)\">\n       <defs>\n        <path id=\"DejaVuSans-36\" d=\"M 2113 2584 \nQ 1688 2584 1439 2293 \nQ 1191 2003 1191 1497 \nQ 1191 994 1439 701 \nQ 1688 409 2113 409 \nQ 2538 409 2786 701 \nQ 3034 994 3034 1497 \nQ 3034 2003 2786 2293 \nQ 2538 2584 2113 2584 \nz\nM 3366 4563 \nL 3366 3988 \nQ 3128 4100 2886 4159 \nQ 2644 4219 2406 4219 \nQ 1781 4219 1451 3797 \nQ 1122 3375 1075 2522 \nQ 1259 2794 1537 2939 \nQ 1816 3084 2150 3084 \nQ 2853 3084 3261 2657 \nQ 3669 2231 3669 1497 \nQ 3669 778 3244 343 \nQ 2819 -91 2113 -91 \nQ 1303 -91 875 529 \nQ 447 1150 447 2328 \nQ 447 3434 972 4092 \nQ 1497 4750 2381 4750 \nQ 2619 4750 2861 4703 \nQ 3103 4656 3366 4563 \nz\n\" transform=\"scale(0.015625)\"/>\n       </defs>\n       <use xlink:href=\"#DejaVuSans-36\"/>\n      </g>\n     </g>\n    </g>\n   </g>\n   <g id=\"matplotlib.axis_2\">\n    <g id=\"ytick_1\">\n     <g id=\"line2d_15\">\n      <path d=\"M 42.467875 265.893088 \nL 399.587875 265.893088 \n\" clip-path=\"url(#p38b29cce1f)\" style=\"fill: none; stroke: #cccccc; stroke-width: 0.8; stroke-linecap: round\"/>\n     </g>\n     <g id=\"line2d_16\">\n      <defs>\n       <path id=\"m2c85b1eab4\" d=\"M 0 0 \nL -4.8 0 \n\" style=\"stroke: #262626\"/>\n      </defs>\n      <g>\n       <use xlink:href=\"#m2c85b1eab4\" x=\"42.467875\" y=\"265.893088\" style=\"fill: #262626; stroke: #262626\"/>\n      </g>\n     </g>\n     <g id=\"text_8\">\n      <!-- −1.00 -->\n      <g style=\"fill: #262626\" transform=\"translate(7.2 269.2364) scale(0.088 -0.088)\">\n       <defs>\n        <path id=\"DejaVuSans-2212\" d=\"M 678 2272 \nL 4684 2272 \nL 4684 1741 \nL 678 1741 \nL 678 2272 \nz\n\" transform=\"scale(0.015625)\"/>\n        <path id=\"DejaVuSans-2e\" d=\"M 684 794 \nL 1344 794 \nL 1344 0 \nL 684 0 \nL 684 794 \nz\n\" transform=\"scale(0.015625)\"/>\n       </defs>\n       <use xlink:href=\"#DejaVuSans-2212\"/>\n       <use xlink:href=\"#DejaVuSans-31\" x=\"83.789062\"/>\n       <use xlink:href=\"#DejaVuSans-2e\" x=\"147.412109\"/>\n       <use xlink:href=\"#DejaVuSans-30\" x=\"179.199219\"/>\n       <use xlink:href=\"#DejaVuSans-30\" x=\"242.822266\"/>\n      </g>\n     </g>\n    </g>\n    <g id=\"ytick_2\">\n     <g id=\"line2d_17\">\n      <path d=\"M 42.467875 232.61541 \nL 399.587875 232.61541 \n\" clip-path=\"url(#p38b29cce1f)\" style=\"fill: none; stroke: #cccccc; stroke-width: 0.8; stroke-linecap: round\"/>\n     </g>\n     <g id=\"line2d_18\">\n      <g>\n       <use xlink:href=\"#m2c85b1eab4\" x=\"42.467875\" y=\"232.61541\" style=\"fill: #262626; stroke: #262626\"/>\n      </g>\n     </g>\n     <g id=\"text_9\">\n      <!-- −0.75 -->\n      <g style=\"fill: #262626\" transform=\"translate(7.2 235.958723) scale(0.088 -0.088)\">\n       <defs>\n        <path id=\"DejaVuSans-37\" d=\"M 525 4666 \nL 3525 4666 \nL 3525 4397 \nL 1831 0 \nL 1172 0 \nL 2766 4134 \nL 525 4134 \nL 525 4666 \nz\n\" transform=\"scale(0.015625)\"/>\n       </defs>\n       <use xlink:href=\"#DejaVuSans-2212\"/>\n       <use xlink:href=\"#DejaVuSans-30\" x=\"83.789062\"/>\n       <use xlink:href=\"#DejaVuSans-2e\" x=\"147.412109\"/>\n       <use xlink:href=\"#DejaVuSans-37\" x=\"179.199219\"/>\n       <use xlink:href=\"#DejaVuSans-35\" x=\"242.822266\"/>\n      </g>\n     </g>\n    </g>\n    <g id=\"ytick_3\">\n     <g id=\"line2d_19\">\n      <path d=\"M 42.467875 199.337733 \nL 399.587875 199.337733 \n\" clip-path=\"url(#p38b29cce1f)\" style=\"fill: none; stroke: #cccccc; stroke-width: 0.8; stroke-linecap: round\"/>\n     </g>\n     <g id=\"line2d_20\">\n      <g>\n       <use xlink:href=\"#m2c85b1eab4\" x=\"42.467875\" y=\"199.337733\" style=\"fill: #262626; stroke: #262626\"/>\n      </g>\n     </g>\n     <g id=\"text_10\">\n      <!-- −0.50 -->\n      <g style=\"fill: #262626\" transform=\"translate(7.2 202.681045) scale(0.088 -0.088)\">\n       <use xlink:href=\"#DejaVuSans-2212\"/>\n       <use xlink:href=\"#DejaVuSans-30\" x=\"83.789062\"/>\n       <use xlink:href=\"#DejaVuSans-2e\" x=\"147.412109\"/>\n       <use xlink:href=\"#DejaVuSans-35\" x=\"179.199219\"/>\n       <use xlink:href=\"#DejaVuSans-30\" x=\"242.822266\"/>\n      </g>\n     </g>\n    </g>\n    <g id=\"ytick_4\">\n     <g id=\"line2d_21\">\n      <path d=\"M 42.467875 166.060055 \nL 399.587875 166.060055 \n\" clip-path=\"url(#p38b29cce1f)\" style=\"fill: none; stroke: #cccccc; stroke-width: 0.8; stroke-linecap: round\"/>\n     </g>\n     <g id=\"line2d_22\">\n      <g>\n       <use xlink:href=\"#m2c85b1eab4\" x=\"42.467875\" y=\"166.060055\" style=\"fill: #262626; stroke: #262626\"/>\n      </g>\n     </g>\n     <g id=\"text_11\">\n      <!-- −0.25 -->\n      <g style=\"fill: #262626\" transform=\"translate(7.2 169.403368) scale(0.088 -0.088)\">\n       <use xlink:href=\"#DejaVuSans-2212\"/>\n       <use xlink:href=\"#DejaVuSans-30\" x=\"83.789062\"/>\n       <use xlink:href=\"#DejaVuSans-2e\" x=\"147.412109\"/>\n       <use xlink:href=\"#DejaVuSans-32\" x=\"179.199219\"/>\n       <use xlink:href=\"#DejaVuSans-35\" x=\"242.822266\"/>\n      </g>\n     </g>\n    </g>\n    <g id=\"ytick_5\">\n     <g id=\"line2d_23\">\n      <path d=\"M 42.467875 132.782378 \nL 399.587875 132.782378 \n\" clip-path=\"url(#p38b29cce1f)\" style=\"fill: none; stroke: #cccccc; stroke-width: 0.8; stroke-linecap: round\"/>\n     </g>\n     <g id=\"line2d_24\">\n      <g>\n       <use xlink:href=\"#m2c85b1eab4\" x=\"42.467875\" y=\"132.782378\" style=\"fill: #262626; stroke: #262626\"/>\n      </g>\n     </g>\n     <g id=\"text_12\">\n      <!-- 0.00 -->\n      <g style=\"fill: #262626\" transform=\"translate(14.574125 136.12569) scale(0.088 -0.088)\">\n       <use xlink:href=\"#DejaVuSans-30\"/>\n       <use xlink:href=\"#DejaVuSans-2e\" x=\"63.623047\"/>\n       <use xlink:href=\"#DejaVuSans-30\" x=\"95.410156\"/>\n       <use xlink:href=\"#DejaVuSans-30\" x=\"159.033203\"/>\n      </g>\n     </g>\n    </g>\n    <g id=\"ytick_6\">\n     <g id=\"line2d_25\">\n      <path d=\"M 42.467875 99.5047 \nL 399.587875 99.5047 \n\" clip-path=\"url(#p38b29cce1f)\" style=\"fill: none; stroke: #cccccc; stroke-width: 0.8; stroke-linecap: round\"/>\n     </g>\n     <g id=\"line2d_26\">\n      <g>\n       <use xlink:href=\"#m2c85b1eab4\" x=\"42.467875\" y=\"99.5047\" style=\"fill: #262626; stroke: #262626\"/>\n      </g>\n     </g>\n     <g id=\"text_13\">\n      <!-- 0.25 -->\n      <g style=\"fill: #262626\" transform=\"translate(14.574125 102.848013) scale(0.088 -0.088)\">\n       <use xlink:href=\"#DejaVuSans-30\"/>\n       <use xlink:href=\"#DejaVuSans-2e\" x=\"63.623047\"/>\n       <use xlink:href=\"#DejaVuSans-32\" x=\"95.410156\"/>\n       <use xlink:href=\"#DejaVuSans-35\" x=\"159.033203\"/>\n      </g>\n     </g>\n    </g>\n    <g id=\"ytick_7\">\n     <g id=\"line2d_27\">\n      <path d=\"M 42.467875 66.227023 \nL 399.587875 66.227023 \n\" clip-path=\"url(#p38b29cce1f)\" style=\"fill: none; stroke: #cccccc; stroke-width: 0.8; stroke-linecap: round\"/>\n     </g>\n     <g id=\"line2d_28\">\n      <g>\n       <use xlink:href=\"#m2c85b1eab4\" x=\"42.467875\" y=\"66.227023\" style=\"fill: #262626; stroke: #262626\"/>\n      </g>\n     </g>\n     <g id=\"text_14\">\n      <!-- 0.50 -->\n      <g style=\"fill: #262626\" transform=\"translate(14.574125 69.570335) scale(0.088 -0.088)\">\n       <use xlink:href=\"#DejaVuSans-30\"/>\n       <use xlink:href=\"#DejaVuSans-2e\" x=\"63.623047\"/>\n       <use xlink:href=\"#DejaVuSans-35\" x=\"95.410156\"/>\n       <use xlink:href=\"#DejaVuSans-30\" x=\"159.033203\"/>\n      </g>\n     </g>\n    </g>\n    <g id=\"ytick_8\">\n     <g id=\"line2d_29\">\n      <path d=\"M 42.467875 32.949345 \nL 399.587875 32.949345 \n\" clip-path=\"url(#p38b29cce1f)\" style=\"fill: none; stroke: #cccccc; stroke-width: 0.8; stroke-linecap: round\"/>\n     </g>\n     <g id=\"line2d_30\">\n      <g>\n       <use xlink:href=\"#m2c85b1eab4\" x=\"42.467875\" y=\"32.949345\" style=\"fill: #262626; stroke: #262626\"/>\n      </g>\n     </g>\n     <g id=\"text_15\">\n      <!-- 0.75 -->\n      <g style=\"fill: #262626\" transform=\"translate(14.574125 36.292658) scale(0.088 -0.088)\">\n       <use xlink:href=\"#DejaVuSans-30\"/>\n       <use xlink:href=\"#DejaVuSans-2e\" x=\"63.623047\"/>\n       <use xlink:href=\"#DejaVuSans-37\" x=\"95.410156\"/>\n       <use xlink:href=\"#DejaVuSans-35\" x=\"159.033203\"/>\n      </g>\n     </g>\n    </g>\n   </g>\n   <g id=\"line2d_31\">\n    <path d=\"M 58.700602 21.580221 \nL 59.810397 21.946349 \nL 60.999462 22.582945 \nL 62.34707 23.573896 \nL 64.011762 25.0959 \nL 66.389893 27.602864 \nL 69.045473 30.707979 \nL 70.868706 33.174473 \nL 72.374857 35.592323 \nL 73.801735 38.317875 \nL 75.268249 41.625434 \nL 76.853669 45.771899 \nL 78.835446 51.619863 \nL 85.454578 71.681884 \nL 88.030885 78.38133 \nL 94.650019 95.246681 \nL 99.604456 108.939395 \nL 103.092382 119.049909 \nL 105.193066 125.83657 \nL 107.095569 132.743506 \nL 109.196254 141.243252 \nL 115.30012 166.600336 \nL 116.766638 171.376934 \nL 118.034971 174.779586 \nL 119.184405 177.261929 \nL 120.294197 179.147072 \nL 121.364358 180.546875 \nL 122.474149 181.645706 \nL 123.742489 182.58029 \nL 125.407179 183.504725 \nL 130.956149 186.396146 \nL 134.008084 188.333348 \nL 135.91059 189.782493 \nL 137.297834 191.110616 \nL 138.526536 192.597535 \nL 139.675965 194.342027 \nL 140.825393 196.496826 \nL 142.054096 199.300537 \nL 143.401703 202.973855 \nL 144.987125 207.99659 \nL 147.484161 216.78851 \nL 149.862292 224.880582 \nL 151.289173 228.98586 \nL 152.478238 231.755289 \nL 153.508762 233.607944 \nL 154.420381 234.809689 \nL 155.252727 235.560091 \nL 156.045435 235.991273 \nL 156.838143 236.180155 \nL 157.710125 236.159598 \nL 158.819923 235.891015 \nL 162.228578 234.894769 \nL 163.179828 234.94944 \nL 164.051804 235.228769 \nL 164.923792 235.751801 \nL 165.835411 236.566614 \nL 166.865935 237.803251 \nL 168.094637 239.655576 \nL 169.759328 242.617304 \nL 173.405792 249.222824 \nL 174.79303 251.218866 \nL 176.021732 252.610328 \nL 177.171161 253.589037 \nL 178.360232 254.313267 \nL 179.74747 254.886804 \nL 184.701911 256.682761 \nL 186.366601 257.709359 \nL 191.003958 260.75534 \nL 192.113756 261.11673 \nL 193.104649 261.215618 \nL 194.09553 261.087095 \nL 195.126053 260.71763 \nL 196.275482 260.056711 \nL 197.741994 258.938871 \nL 202.022637 255.516709 \nL 203.608053 254.634579 \nL 208.047232 252.38498 \nL 209.077756 251.447036 \nL 210.068649 250.234329 \nL 211.059529 248.66477 \nL 212.129696 246.537289 \nL 213.318756 243.649042 \nL 214.706006 239.65606 \nL 216.568875 233.537342 \nL 221.206232 218.009388 \nL 222.950184 213.1057 \nL 224.694148 208.867921 \nL 226.715565 204.566287 \nL 239.914196 178.094477 \nL 242.688672 172.743731 \nL 244.274101 169.172053 \nL 245.700982 165.395153 \nL 247.127851 160.967593 \nL 248.673636 155.403131 \nL 250.457244 148.108223 \nL 253.390267 134.993179 \nL 256.045851 123.512724 \nL 257.750172 117.096309 \nL 259.177053 112.536942 \nL 260.485029 109.065695 \nL 261.713732 106.407549 \nL 262.942422 104.274903 \nL 264.171124 102.576238 \nL 265.558362 101.035323 \nL 267.777958 98.960634 \nL 269.918267 96.851073 \nL 271.464052 95.003587 \nL 273.049481 92.745103 \nL 274.951981 89.614535 \nL 279.192981 82.493636 \nL 280.500957 80.808465 \nL 281.571124 79.767511 \nL 282.522362 79.13585 \nL 283.394363 78.813887 \nL 284.226695 78.737172 \nL 285.059053 78.877823 \nL 285.970672 79.262524 \nL 287.001196 79.950991 \nL 288.269529 81.090423 \nL 290.053124 83.034516 \nL 294.452672 87.943398 \nL 296.394815 89.712069 \nL 298.257672 91.109914 \nL 299.962005 92.123082 \nL 301.468148 92.771229 \nL 302.776124 93.09707 \nL 303.925553 93.159104 \nL 304.99572 92.997432 \nL 306.065862 92.604295 \nL 307.175672 91.945667 \nL 308.364719 90.971532 \nL 309.7916 89.499794 \nL 312.249005 86.574049 \nL 314.270434 84.31887 \nL 315.657672 83.090976 \nL 316.886362 82.289562 \nL 318.115077 81.751877 \nL 319.541958 81.381198 \nL 322.831695 80.63261 \nL 323.941481 80.074587 \nL 324.972005 79.294688 \nL 326.002528 78.221351 \nL 327.072695 76.779412 \nL 328.301385 74.727376 \nL 329.728266 71.887584 \nL 331.670409 67.480672 \nL 348.356957 28.203841 \nL 349.863124 25.402801 \nL 351.1711 23.421713 \nL 352.360147 22.00958 \nL 353.509576 20.985044 \nL 354.659004 20.260109 \nL 355.848076 19.771397 \nL 357.195695 19.459518 \nL 358.900004 19.307219 \nL 361.1196 19.345315 \nL 363.339195 19.599082 \nL 365.241695 20.03969 \nL 367.144195 20.713353 \nL 372.812076 22.911167 \nL 374.159695 23.063593 \nL 375.467671 22.988484 \nL 376.973814 22.666526 \nL 381.769719 21.441968 \nL 382.919147 21.492266 \nL 383.355148 21.571324 \nL 383.355148 21.571324 \n\" clip-path=\"url(#p38b29cce1f)\" style=\"fill: none; stroke: #1f77b4; stroke-width: 1.2; stroke-linecap: round\"/>\n   </g>\n   <g id=\"line2d_32\">\n    <path d=\"M 58.700602 41.805707 \nL 62.307434 39.518994 \nL 65.399005 37.813737 \nL 68.133856 36.55327 \nL 70.551622 35.677473 \nL 72.731575 35.119509 \nL 74.713352 34.839114 \nL 76.536586 34.805613 \nL 78.201278 34.993712 \nL 79.786697 35.396876 \nL 81.292848 36.01187 \nL 82.719726 36.831994 \nL 84.146605 37.914112 \nL 85.533849 39.249698 \nL 86.92109 40.899816 \nL 88.308334 42.902336 \nL 89.695578 45.297892 \nL 91.122456 48.216853 \nL 92.588971 51.746908 \nL 94.09512 55.98364 \nL 95.640906 61.02707 \nL 97.226325 66.975576 \nL 98.891019 74.096563 \nL 100.674617 82.720661 \nL 102.656391 93.445656 \nL 104.955251 107.180555 \nL 108.086459 127.383276 \nL 113.675066 163.557877 \nL 116.132471 177.881557 \nL 118.272786 189.072412 \nL 120.214929 198.087704 \nL 122.077798 205.70665 \nL 123.861393 212.093065 \nL 125.605358 217.534868 \nL 127.309685 222.150258 \nL 129.014012 226.137298 \nL 130.71834 229.56079 \nL 132.38303 232.418919 \nL 134.047721 234.849026 \nL 135.712411 236.89708 \nL 137.377108 238.603469 \nL 139.081435 240.033217 \nL 140.785762 241.174343 \nL 142.529721 242.072606 \nL 144.273685 242.724201 \nL 146.096917 243.166095 \nL 147.959786 243.387779 \nL 149.901929 243.393768 \nL 151.92334 243.177699 \nL 154.063661 242.724043 \nL 156.322881 242.017295 \nL 158.740649 241.026312 \nL 161.356596 239.708044 \nL 164.170721 238.03446 \nL 167.222649 235.953916 \nL 170.55203 233.407439 \nL 174.198506 230.330934 \nL 178.241328 226.619877 \nL 182.759768 222.159172 \nL 187.793482 216.870916 \nL 193.540637 210.505432 \nL 200.278672 202.699285 \nL 208.285041 193.06813 \nL 218.075017 180.929774 \nL 232.74016 162.353796 \nL 248.118744 142.976344 \nL 256.085482 133.296347 \nL 262.466803 125.880398 \nL 267.976148 119.8093 \nL 272.890934 114.714563 \nL 277.449029 110.305178 \nL 281.729672 106.472444 \nL 285.772481 103.14702 \nL 289.69641 100.20298 \nL 293.580671 97.564019 \nL 297.5046 95.16554 \nL 301.626696 92.910109 \nL 306.105505 90.718315 \nL 311.535576 88.321391 \nL 328.539219 81.004768 \nL 333.295481 78.59647 \nL 337.813909 76.056999 \nL 342.292743 73.282367 \nL 346.969719 70.118005 \nL 352.003433 66.439035 \nL 357.909123 61.836859 \nL 366.906385 54.502883 \nL 375.784742 47.359072 \nL 380.818457 43.593463 \nL 383.355148 41.832329 \nL 383.355148 41.832329 \n\" clip-path=\"url(#p38b29cce1f)\" style=\"fill: none; stroke: #ff7f0e; stroke-width: 1.2; stroke-linecap: round\"/>\n   </g>\n   <g id=\"patch_3\">\n    <path d=\"M 42.467875 273.312 \nL 42.467875 7.2 \n\" style=\"fill: none; stroke: #262626; stroke-linejoin: miter; stroke-linecap: square\"/>\n   </g>\n   <g id=\"patch_4\">\n    <path d=\"M 399.587875 273.312 \nL 399.587875 7.2 \n\" style=\"fill: none; stroke: #262626; stroke-linejoin: miter; stroke-linecap: square\"/>\n   </g>\n   <g id=\"patch_5\">\n    <path d=\"M 42.467875 273.312 \nL 399.587875 273.312 \n\" style=\"fill: none; stroke: #262626; stroke-linejoin: miter; stroke-linecap: square\"/>\n   </g>\n   <g id=\"patch_6\">\n    <path d=\"M 42.467875 7.2 \nL 399.587875 7.2 \n\" style=\"fill: none; stroke: #262626; stroke-linejoin: miter; stroke-linecap: square\"/>\n   </g>\n   <g id=\"legend_1\">\n    <g id=\"patch_7\">\n     <path d=\"M 293.222 268.912 \nL 393.427875 268.912 \nQ 395.187875 268.912 395.187875 267.152 \nL 395.187875 242.1985 \nQ 395.187875 240.4385 393.427875 240.4385 \nL 293.222 240.4385 \nQ 291.462 240.4385 291.462 242.1985 \nL 291.462 267.152 \nQ 291.462 268.912 293.222 268.912 \nz\n\" style=\"fill: #ffffff; opacity: 0.8; stroke: #cccccc; stroke-width: 0.8; stroke-linejoin: miter\"/>\n    </g>\n    <g id=\"line2d_33\">\n     <path d=\"M 294.982 247.565125 \nL 303.782 247.565125 \nL 312.582 247.565125 \n\" style=\"fill: none; stroke: #1f77b4; stroke-width: 1.2; stroke-linecap: round\"/>\n    </g>\n    <g id=\"text_16\">\n     <!-- initial condition -->\n     <g style=\"fill: #262626\" transform=\"translate(319.622 250.645125) scale(0.088 -0.088)\">\n      <defs>\n       <path id=\"DejaVuSans-69\" d=\"M 603 3500 \nL 1178 3500 \nL 1178 0 \nL 603 0 \nL 603 3500 \nz\nM 603 4863 \nL 1178 4863 \nL 1178 4134 \nL 603 4134 \nL 603 4863 \nz\n\" transform=\"scale(0.015625)\"/>\n       <path id=\"DejaVuSans-6e\" d=\"M 3513 2113 \nL 3513 0 \nL 2938 0 \nL 2938 2094 \nQ 2938 2591 2744 2837 \nQ 2550 3084 2163 3084 \nQ 1697 3084 1428 2787 \nQ 1159 2491 1159 1978 \nL 1159 0 \nL 581 0 \nL 581 3500 \nL 1159 3500 \nL 1159 2956 \nQ 1366 3272 1645 3428 \nQ 1925 3584 2291 3584 \nQ 2894 3584 3203 3211 \nQ 3513 2838 3513 2113 \nz\n\" transform=\"scale(0.015625)\"/>\n       <path id=\"DejaVuSans-74\" d=\"M 1172 4494 \nL 1172 3500 \nL 2356 3500 \nL 2356 3053 \nL 1172 3053 \nL 1172 1153 \nQ 1172 725 1289 603 \nQ 1406 481 1766 481 \nL 2356 481 \nL 2356 0 \nL 1766 0 \nQ 1100 0 847 248 \nQ 594 497 594 1153 \nL 594 3053 \nL 172 3053 \nL 172 3500 \nL 594 3500 \nL 594 4494 \nL 1172 4494 \nz\n\" transform=\"scale(0.015625)\"/>\n       <path id=\"DejaVuSans-61\" d=\"M 2194 1759 \nQ 1497 1759 1228 1600 \nQ 959 1441 959 1056 \nQ 959 750 1161 570 \nQ 1363 391 1709 391 \nQ 2188 391 2477 730 \nQ 2766 1069 2766 1631 \nL 2766 1759 \nL 2194 1759 \nz\nM 3341 1997 \nL 3341 0 \nL 2766 0 \nL 2766 531 \nQ 2569 213 2275 61 \nQ 1981 -91 1556 -91 \nQ 1019 -91 701 211 \nQ 384 513 384 1019 \nQ 384 1609 779 1909 \nQ 1175 2209 1959 2209 \nL 2766 2209 \nL 2766 2266 \nQ 2766 2663 2505 2880 \nQ 2244 3097 1772 3097 \nQ 1472 3097 1187 3025 \nQ 903 2953 641 2809 \nL 641 3341 \nQ 956 3463 1253 3523 \nQ 1550 3584 1831 3584 \nQ 2591 3584 2966 3190 \nQ 3341 2797 3341 1997 \nz\n\" transform=\"scale(0.015625)\"/>\n       <path id=\"DejaVuSans-6c\" d=\"M 603 4863 \nL 1178 4863 \nL 1178 0 \nL 603 0 \nL 603 4863 \nz\n\" transform=\"scale(0.015625)\"/>\n       <path id=\"DejaVuSans-20\" transform=\"scale(0.015625)\"/>\n       <path id=\"DejaVuSans-63\" d=\"M 3122 3366 \nL 3122 2828 \nQ 2878 2963 2633 3030 \nQ 2388 3097 2138 3097 \nQ 1578 3097 1268 2742 \nQ 959 2388 959 1747 \nQ 959 1106 1268 751 \nQ 1578 397 2138 397 \nQ 2388 397 2633 464 \nQ 2878 531 3122 666 \nL 3122 134 \nQ 2881 22 2623 -34 \nQ 2366 -91 2075 -91 \nQ 1284 -91 818 406 \nQ 353 903 353 1747 \nQ 353 2603 823 3093 \nQ 1294 3584 2113 3584 \nQ 2378 3584 2631 3529 \nQ 2884 3475 3122 3366 \nz\n\" transform=\"scale(0.015625)\"/>\n       <path id=\"DejaVuSans-6f\" d=\"M 1959 3097 \nQ 1497 3097 1228 2736 \nQ 959 2375 959 1747 \nQ 959 1119 1226 758 \nQ 1494 397 1959 397 \nQ 2419 397 2687 759 \nQ 2956 1122 2956 1747 \nQ 2956 2369 2687 2733 \nQ 2419 3097 1959 3097 \nz\nM 1959 3584 \nQ 2709 3584 3137 3096 \nQ 3566 2609 3566 1747 \nQ 3566 888 3137 398 \nQ 2709 -91 1959 -91 \nQ 1206 -91 779 398 \nQ 353 888 353 1747 \nQ 353 2609 779 3096 \nQ 1206 3584 1959 3584 \nz\n\" transform=\"scale(0.015625)\"/>\n       <path id=\"DejaVuSans-64\" d=\"M 2906 2969 \nL 2906 4863 \nL 3481 4863 \nL 3481 0 \nL 2906 0 \nL 2906 525 \nQ 2725 213 2448 61 \nQ 2172 -91 1784 -91 \nQ 1150 -91 751 415 \nQ 353 922 353 1747 \nQ 353 2572 751 3078 \nQ 1150 3584 1784 3584 \nQ 2172 3584 2448 3432 \nQ 2725 3281 2906 2969 \nz\nM 947 1747 \nQ 947 1113 1208 752 \nQ 1469 391 1925 391 \nQ 2381 391 2643 752 \nQ 2906 1113 2906 1747 \nQ 2906 2381 2643 2742 \nQ 2381 3103 1925 3103 \nQ 1469 3103 1208 2742 \nQ 947 2381 947 1747 \nz\n\" transform=\"scale(0.015625)\"/>\n      </defs>\n      <use xlink:href=\"#DejaVuSans-69\"/>\n      <use xlink:href=\"#DejaVuSans-6e\" x=\"27.783203\"/>\n      <use xlink:href=\"#DejaVuSans-69\" x=\"91.162109\"/>\n      <use xlink:href=\"#DejaVuSans-74\" x=\"118.945312\"/>\n      <use xlink:href=\"#DejaVuSans-69\" x=\"158.154297\"/>\n      <use xlink:href=\"#DejaVuSans-61\" x=\"185.9375\"/>\n      <use xlink:href=\"#DejaVuSans-6c\" x=\"247.216797\"/>\n      <use xlink:href=\"#DejaVuSans-20\" x=\"275\"/>\n      <use xlink:href=\"#DejaVuSans-63\" x=\"306.787109\"/>\n      <use xlink:href=\"#DejaVuSans-6f\" x=\"361.767578\"/>\n      <use xlink:href=\"#DejaVuSans-6e\" x=\"422.949219\"/>\n      <use xlink:href=\"#DejaVuSans-64\" x=\"486.328125\"/>\n      <use xlink:href=\"#DejaVuSans-69\" x=\"549.804688\"/>\n      <use xlink:href=\"#DejaVuSans-74\" x=\"577.587891\"/>\n      <use xlink:href=\"#DejaVuSans-69\" x=\"616.796875\"/>\n      <use xlink:href=\"#DejaVuSans-6f\" x=\"644.580078\"/>\n      <use xlink:href=\"#DejaVuSans-6e\" x=\"705.761719\"/>\n     </g>\n    </g>\n    <g id=\"line2d_34\">\n     <path d=\"M 294.982 260.481875 \nL 303.782 260.481875 \nL 312.582 260.481875 \n\" style=\"fill: none; stroke: #ff7f0e; stroke-width: 1.2; stroke-linecap: round\"/>\n    </g>\n    <g id=\"text_17\">\n     <!-- After 1 time unit -->\n     <g style=\"fill: #262626\" transform=\"translate(319.622 263.561875) scale(0.088 -0.088)\">\n      <defs>\n       <path id=\"DejaVuSans-41\" d=\"M 2188 4044 \nL 1331 1722 \nL 3047 1722 \nL 2188 4044 \nz\nM 1831 4666 \nL 2547 4666 \nL 4325 0 \nL 3669 0 \nL 3244 1197 \nL 1141 1197 \nL 716 0 \nL 50 0 \nL 1831 4666 \nz\n\" transform=\"scale(0.015625)\"/>\n       <path id=\"DejaVuSans-66\" d=\"M 2375 4863 \nL 2375 4384 \nL 1825 4384 \nQ 1516 4384 1395 4259 \nQ 1275 4134 1275 3809 \nL 1275 3500 \nL 2222 3500 \nL 2222 3053 \nL 1275 3053 \nL 1275 0 \nL 697 0 \nL 697 3053 \nL 147 3053 \nL 147 3500 \nL 697 3500 \nL 697 3744 \nQ 697 4328 969 4595 \nQ 1241 4863 1831 4863 \nL 2375 4863 \nz\n\" transform=\"scale(0.015625)\"/>\n       <path id=\"DejaVuSans-65\" d=\"M 3597 1894 \nL 3597 1613 \nL 953 1613 \nQ 991 1019 1311 708 \nQ 1631 397 2203 397 \nQ 2534 397 2845 478 \nQ 3156 559 3463 722 \nL 3463 178 \nQ 3153 47 2828 -22 \nQ 2503 -91 2169 -91 \nQ 1331 -91 842 396 \nQ 353 884 353 1716 \nQ 353 2575 817 3079 \nQ 1281 3584 2069 3584 \nQ 2775 3584 3186 3129 \nQ 3597 2675 3597 1894 \nz\nM 3022 2063 \nQ 3016 2534 2758 2815 \nQ 2500 3097 2075 3097 \nQ 1594 3097 1305 2825 \nQ 1016 2553 972 2059 \nL 3022 2063 \nz\n\" transform=\"scale(0.015625)\"/>\n       <path id=\"DejaVuSans-72\" d=\"M 2631 2963 \nQ 2534 3019 2420 3045 \nQ 2306 3072 2169 3072 \nQ 1681 3072 1420 2755 \nQ 1159 2438 1159 1844 \nL 1159 0 \nL 581 0 \nL 581 3500 \nL 1159 3500 \nL 1159 2956 \nQ 1341 3275 1631 3429 \nQ 1922 3584 2338 3584 \nQ 2397 3584 2469 3576 \nQ 2541 3569 2628 3553 \nL 2631 2963 \nz\n\" transform=\"scale(0.015625)\"/>\n       <path id=\"DejaVuSans-6d\" d=\"M 3328 2828 \nQ 3544 3216 3844 3400 \nQ 4144 3584 4550 3584 \nQ 5097 3584 5394 3201 \nQ 5691 2819 5691 2113 \nL 5691 0 \nL 5113 0 \nL 5113 2094 \nQ 5113 2597 4934 2840 \nQ 4756 3084 4391 3084 \nQ 3944 3084 3684 2787 \nQ 3425 2491 3425 1978 \nL 3425 0 \nL 2847 0 \nL 2847 2094 \nQ 2847 2600 2669 2842 \nQ 2491 3084 2119 3084 \nQ 1678 3084 1418 2786 \nQ 1159 2488 1159 1978 \nL 1159 0 \nL 581 0 \nL 581 3500 \nL 1159 3500 \nL 1159 2956 \nQ 1356 3278 1631 3431 \nQ 1906 3584 2284 3584 \nQ 2666 3584 2933 3390 \nQ 3200 3197 3328 2828 \nz\n\" transform=\"scale(0.015625)\"/>\n       <path id=\"DejaVuSans-75\" d=\"M 544 1381 \nL 544 3500 \nL 1119 3500 \nL 1119 1403 \nQ 1119 906 1312 657 \nQ 1506 409 1894 409 \nQ 2359 409 2629 706 \nQ 2900 1003 2900 1516 \nL 2900 3500 \nL 3475 3500 \nL 3475 0 \nL 2900 0 \nL 2900 538 \nQ 2691 219 2414 64 \nQ 2138 -91 1772 -91 \nQ 1169 -91 856 284 \nQ 544 659 544 1381 \nz\nM 1991 3584 \nL 1991 3584 \nz\n\" transform=\"scale(0.015625)\"/>\n      </defs>\n      <use xlink:href=\"#DejaVuSans-41\"/>\n      <use xlink:href=\"#DejaVuSans-66\" x=\"64.783203\"/>\n      <use xlink:href=\"#DejaVuSans-74\" x=\"98.238281\"/>\n      <use xlink:href=\"#DejaVuSans-65\" x=\"137.447266\"/>\n      <use xlink:href=\"#DejaVuSans-72\" x=\"198.970703\"/>\n      <use xlink:href=\"#DejaVuSans-20\" x=\"240.083984\"/>\n      <use xlink:href=\"#DejaVuSans-31\" x=\"271.871094\"/>\n      <use xlink:href=\"#DejaVuSans-20\" x=\"335.494141\"/>\n      <use xlink:href=\"#DejaVuSans-74\" x=\"367.28125\"/>\n      <use xlink:href=\"#DejaVuSans-69\" x=\"406.490234\"/>\n      <use xlink:href=\"#DejaVuSans-6d\" x=\"434.273438\"/>\n      <use xlink:href=\"#DejaVuSans-65\" x=\"531.685547\"/>\n      <use xlink:href=\"#DejaVuSans-20\" x=\"593.208984\"/>\n      <use xlink:href=\"#DejaVuSans-75\" x=\"624.996094\"/>\n      <use xlink:href=\"#DejaVuSans-6e\" x=\"688.375\"/>\n      <use xlink:href=\"#DejaVuSans-69\" x=\"751.753906\"/>\n      <use xlink:href=\"#DejaVuSans-74\" x=\"779.537109\"/>\n     </g>\n    </g>\n   </g>\n  </g>\n </g>\n <defs>\n  <clipPath id=\"p38b29cce1f\">\n   <rect x=\"42.467875\" y=\"7.2\" width=\"357.12\" height=\"266.112\"/>\n  </clipPath>\n </defs>\n</svg>\n"
          },
          "metadata": {}
        }
      ]
    },
    {
      "cell_type": "code",
      "source": [
        "# Adjust the shape of `mesh` to match the batch dimension of `u`\n",
        "# - First, add two new axes to `mesh` using `jnp.newaxis` to reshape it to (1, 1, mesh_length)\n",
        "# - Then, repeat `mesh` along the batch dimension (axis=0) to create a shape of (batch_size, 1, mesh_length)\n",
        "# - This ensures `mesh_shape_corrected` matches the shape of `a` in the batch dimension\n",
        "mesh_shape_corrected = jnp.repeat(mesh[jnp.newaxis, jnp.newaxis, :], u.shape[0], axis=0)\n",
        "\n",
        "# Concatenate `a` and `mesh_shape_corrected` along the channel dimension (axis=1)\n",
        "# - This combines `a` with the reshaped `mesh`, resulting in a shape of (batch_size, 2, sequence_length)\n",
        "# - The second dimension now includes both `a` and `mesh` as separate \"channels\"\n",
        "a_with_mesh = jnp.concatenate((a, mesh_shape_corrected), axis=1)"
      ],
      "metadata": {
        "id": "5ED94Cm3cBWL"
      },
      "execution_count": 10,
      "outputs": []
    },
    {
      "cell_type": "code",
      "source": [
        "# Check shape\n",
        "a_with_mesh.shape"
      ],
      "metadata": {
        "colab": {
          "base_uri": "https://localhost:8080/"
        },
        "id": "bD9N2zbBcTcD",
        "outputId": "694a408f-61c6-4f0b-fb1a-8b4112391d13"
      },
      "execution_count": 11,
      "outputs": [
        {
          "output_type": "execute_result",
          "data": {
            "text/plain": [
              "(2048, 2, 8192)"
            ]
          },
          "metadata": {},
          "execution_count": 11
        }
      ]
    },
    {
      "cell_type": "code",
      "source": [
        "# Extract training and test data\n",
        "train_x, test_x = a_with_mesh[:1000], a_with_mesh[1000:1200]\n",
        "train_y, test_y = u[:1000], u[1000:1200]"
      ],
      "metadata": {
        "id": "9B8fdNJicWrE"
      },
      "execution_count": 12,
      "outputs": []
    },
    {
      "cell_type": "code",
      "source": [
        "print(f\"Shape of train_x: {train_x.shape}\")\n",
        "print(f\"Shape of train_y: {test_x.shape}\")"
      ],
      "metadata": {
        "colab": {
          "base_uri": "https://localhost:8080/"
        },
        "id": "q6nr7Jqhc31m",
        "outputId": "a81ec27c-ba1d-4dba-8685-897c49b24ddb"
      },
      "execution_count": 13,
      "outputs": [
        {
          "output_type": "stream",
          "name": "stdout",
          "text": [
            "Shape of train_x: (1000, 2, 8192)\n",
            "Shape of train_y: (200, 2, 8192)\n"
          ]
        }
      ]
    },
    {
      "cell_type": "code",
      "source": [
        "class SpectralConv1d(eqx.Module):\n",
        "    real_weights: jax.Array # Real part of spectral weights\n",
        "    imag_weights: jax.Array # Imaginary part of spectral weights\n",
        "    in_channels: int        # Number of input channels\n",
        "    out_channels: int       # Number of output channels\n",
        "    modes: int              # Number of frequency modes to use\n",
        "\n",
        "    def __init__(\n",
        "            self,\n",
        "            in_channels,\n",
        "            out_channels,\n",
        "            modes,\n",
        "            *,\n",
        "            key,\n",
        "    ):\n",
        "        # Initialize input, output channels and number of modes\n",
        "        self.in_channels = in_channels\n",
        "        self.out_channels = out_channels\n",
        "        self.modes = modes\n",
        "\n",
        "        # Scaling factor for weight initialization\n",
        "        scale = 1.0 / (in_channels * out_channels)\n",
        "\n",
        "        # Split key for separate initialization of real and imaginary parts\n",
        "        real_key, imag_key = jax.random.split(key)\n",
        "        # Initialize real part of weights with uniform distribution\n",
        "        self.real_weights = jax.random.uniform(\n",
        "            real_key,\n",
        "            (in_channels, out_channels, modes),\n",
        "            minval=-scale,\n",
        "            maxval=+scale,\n",
        "        )\n",
        "        # Initialize imaginary part of weights with uniform distribution\n",
        "        self.imag_weights = jax.random.uniform(\n",
        "            imag_key,\n",
        "            (in_channels, out_channels, modes),\n",
        "            minval=-scale,\n",
        "            maxval=+scale,\n",
        "        )\n",
        "\n",
        "    def complex_mult1d(\n",
        "            self,\n",
        "            x_hat,\n",
        "            w,\n",
        "    ):\n",
        "        # Perform complex multiplication along frequency modes\n",
        "        # x_hat has shape (in_channels, modes), w has shape (in_channels, out_channels, modes)\n",
        "        # Resulting shape is (out_channels, modes)\n",
        "        return jnp.einsum(\"iM,ioM->oM\", x_hat, w)\n",
        "\n",
        "\n",
        "    def __call__(\n",
        "            self,\n",
        "            x,\n",
        "    ):\n",
        "        # Input x shape: (in_channels, spatial_points)\n",
        "        channels, spatial_points = x.shape\n",
        "\n",
        "        # shape of x_hat is (in_channels, spatial_points//2+1)\n",
        "        # Compute FFT of input along the spatial dimension\n",
        "        x_hat = jnp.fft.rfft(x)\n",
        "        # shape of x_hat_under_modes is (in_channels, self.modes)\n",
        "        # Truncate the frequency representation to keep only the specified modes\n",
        "        x_hat_under_modes = x_hat[:, :self.modes]\n",
        "        # Combine real and imaginary weights to form complex weights\n",
        "        weights = self.real_weights + 1j * self.imag_weights\n",
        "        # shape of out_hat_under_modes is (out_channels, self.modes)\n",
        "        # Apply complex multiplication to obtain output in frequency space\n",
        "        out_hat_under_modes = self.complex_mult1d(x_hat_under_modes, weights)\n",
        "\n",
        "        # shape of out_hat is (out_channels, spatial_points//2+1)\n",
        "        # Initialize the full output in the frequency domain\n",
        "        out_hat = jnp.zeros(\n",
        "            (self.out_channels, x_hat.shape[-1]),\n",
        "            dtype=x_hat.dtype\n",
        "        )\n",
        "        # Insert the computed modes back into the output\n",
        "        # Only the first 'modes' entries are set, others remain zero\n",
        "        out_hat = out_hat.at[:, :self.modes].set(out_hat_under_modes)\n",
        "\n",
        "        # Perform the inverse FFT to return to spatial domain\n",
        "        # Output shape: (out_channels, spatial_points)\n",
        "        out = jnp.fft.irfft(out_hat, n=spatial_points)\n",
        "\n",
        "        return out"
      ],
      "metadata": {
        "id": "Kz4Do_BjcgQT"
      },
      "execution_count": 14,
      "outputs": []
    },
    {
      "cell_type": "code",
      "source": [
        "class FNOBlock1d(eqx.Module):\n",
        "    # Define the module attributes\n",
        "    spectral_conv: SpectralConv1d  # Spectral convolution layer\n",
        "    bypass_conv: eqx.nn.Conv1d     # Bypass convolution layer for residual connection\n",
        "    activation: Callable           # Activation function for the layer output\n",
        "\n",
        "    def __init__(\n",
        "            self,\n",
        "            in_channels,\n",
        "            out_channels,\n",
        "            modes,\n",
        "            activation,\n",
        "            *,\n",
        "            key,\n",
        "    ):\n",
        "        # Split the random key for initializing the spectral and bypass convolutions separately\n",
        "        spectral_conv_key, bypass_conv_key = jax.random.split(key)\n",
        "\n",
        "        # Initialize spectral convolution layer with given parameters and modes\n",
        "        self.spectral_conv = SpectralConv1d(\n",
        "            in_channels,\n",
        "            out_channels,\n",
        "            modes,\n",
        "            key=spectral_conv_key,\n",
        "        )\n",
        "\n",
        "        # Initialize bypass convolution layer with a kernel size of 1 for pointwise convolution\n",
        "        self.bypass_conv = eqx.nn.Conv1d(\n",
        "            in_channels,\n",
        "            out_channels,\n",
        "            1,  # Kernel size is one (pointwise convolution)\n",
        "            key=bypass_conv_key,\n",
        "        )\n",
        "\n",
        "        # Set the activation function (e.g., ReLU, tanh)\n",
        "        self.activation = activation\n",
        "\n",
        "    def __call__(\n",
        "            self,\n",
        "            x,\n",
        "    ):\n",
        "        # Perform the forward pass\n",
        "        # Apply spectral convolution and bypass convolution to input x\n",
        "        # Add the results to create a residual connection, then apply activation function\n",
        "        return self.activation(\n",
        "            self.spectral_conv(x) + self.bypass_conv(x)\n",
        "        )\n"
      ],
      "metadata": {
        "id": "b4qIDCpElfiJ"
      },
      "execution_count": 15,
      "outputs": []
    },
    {
      "cell_type": "code",
      "source": [
        "class FNO1d(eqx.Module):\n",
        "    # Define the module attributes\n",
        "    lifting: eqx.nn.Conv1d        # Initial convolution to lift input to desired channel width\n",
        "    fno_blocks: List[FNOBlock1d]  # Sequence of FNO blocks to apply transformations\n",
        "    projection: eqx.nn.Conv1d     # Final convolution to project output to desired shape\n",
        "\n",
        "    def __init__(\n",
        "            self,\n",
        "            in_channels,   # Number of input channels\n",
        "            out_channels,  # Number of output channels\n",
        "            modes,         # Number of frequency modes for spectral convolution\n",
        "            width,         # Width (number of channels) in FNO blocks\n",
        "            activation,    # Activation function to use in FNO blocks\n",
        "            n_blocks=4,    # Number of FNO blocks\n",
        "            *,\n",
        "            key,           # Random key for initialization\n",
        "    ):\n",
        "        # Split the random key for initializing the lifting layer\n",
        "        key, lifting_key = jax.random.split(key)\n",
        "\n",
        "        # Initialize lifting layer (pointwise convolution) to map input to `width` channels\n",
        "        self.lifting = eqx.nn.Conv1d(\n",
        "            in_channels,\n",
        "            width,\n",
        "            1,            # Kernel size of 1 (pointwise convolution)\n",
        "            key=lifting_key,\n",
        "        )\n",
        "\n",
        "        # Initialize the sequence of FNO blocks\n",
        "        self.fno_blocks = []\n",
        "        for i in range(n_blocks):\n",
        "            # Split key for each block to ensure unique initialization\n",
        "            key, subkey = jax.random.split(key)\n",
        "\n",
        "            # Append an FNO block with `width` channels and `modes` frequency modes\n",
        "            self.fno_blocks.append(FNOBlock1d(\n",
        "                width,\n",
        "                width,\n",
        "                modes,\n",
        "                activation,\n",
        "                key=subkey,\n",
        "            ))\n",
        "\n",
        "        # Split key for initializing the projection layer\n",
        "        key, projection_key = jax.random.split(key)\n",
        "\n",
        "        # Initialize projection layer to map `width` channels to `out_channels`\n",
        "        self.projection = eqx.nn.Conv1d(\n",
        "            width,\n",
        "            out_channels,\n",
        "            1,  # Kernel size of 1 (pointwise convolution)\n",
        "            key=projection_key,\n",
        "        )\n",
        "\n",
        "    def __call__(\n",
        "            self,\n",
        "            x,  # Input data of shape (in_channels, spatial_points)\n",
        "    ):\n",
        "        # Apply the lifting layer to increase input channels to `width`\n",
        "        x = self.lifting(x)\n",
        "\n",
        "        # Pass the input through each FNO block in sequence\n",
        "        for fno_block in self.fno_blocks:\n",
        "            x = fno_block(x)\n",
        "\n",
        "        # Apply the projection layer to map to `out_channels`\n",
        "        x = self.projection(x)\n",
        "\n",
        "        # Return the final output\n",
        "        return x\n"
      ],
      "metadata": {
        "id": "YHwjBWjpmBB_"
      },
      "execution_count": 16,
      "outputs": []
    },
    {
      "cell_type": "code",
      "source": [
        "fno = FNO1d(\n",
        "    in_channels=2,\n",
        "    out_channels=1,\n",
        "    modes=16,\n",
        "    width=64,\n",
        "    activation=jax.nn.relu,\n",
        "    key=jax.random.PRNGKey(0),\n",
        ")"
      ],
      "metadata": {
        "id": "15KbDW-mmHcq"
      },
      "execution_count": 19,
      "outputs": []
    },
    {
      "cell_type": "code",
      "source": [
        "def dataloader(\n",
        "    key,          # Random key for shuffling the dataset\n",
        "    dataset_x,    # Input dataset (features), shape: (n_samples, ...)\n",
        "    dataset_y,    # Output dataset (labels/targets), shape: (n_samples, ...)\n",
        "    batch_size,   # Size of each batch\n",
        "):\n",
        "    # Get the number of samples in the dataset\n",
        "    n_samples = dataset_x.shape[0]\n",
        "\n",
        "    # Calculate the total number of batches needed\n",
        "    n_batches = int(jnp.ceil(n_samples / batch_size))\n",
        "\n",
        "    # Generate a random permutation of indices to shuffle the data\n",
        "    permutation = jax.random.permutation(key, n_samples)\n",
        "\n",
        "    # Yield each batch\n",
        "    for batch_id in range(n_batches):\n",
        "        # Calculate the start and end indices for the current batch\n",
        "        start = batch_id * batch_size\n",
        "        end = min((batch_id + 1) * batch_size, n_samples)\n",
        "\n",
        "        # Select the indices for the current batch from the permutation\n",
        "        batch_indices = permutation[start:end]\n",
        "\n",
        "        # Yield the shuffled batch of data for both x and y\n",
        "        yield dataset_x[batch_indices], dataset_y[batch_indices]\n"
      ],
      "metadata": {
        "id": "mIs0-gZlmXCg"
      },
      "execution_count": 21,
      "outputs": []
    },
    {
      "cell_type": "code",
      "source": [
        "def loss_fn(model, x, y):\n",
        "    # Apply the model to each example in x to get predictions\n",
        "    y_pred = jax.vmap(model)(x)\n",
        "\n",
        "    # Calculate mean squared error (MSE) between predictions and true values y\n",
        "    loss = jnp.mean(jnp.square(y_pred - y))\n",
        "\n",
        "    # Return the calculated loss\n",
        "    return loss\n",
        "\n",
        "# Initialize the Adam optimizer with a learning rate of 3e-4\n",
        "optimizer = optax.adam(3e-4)\n",
        "\n",
        "# Initialize the optimizer state, filtering the model to only include parameters that are arrays\n",
        "opt_state = optimizer.init(eqx.filter(fno, eqx.is_array))\n",
        "\n",
        "@eqx.filter_jit\n",
        "def make_step(model, state, x, y):\n",
        "    # Compute loss and gradients with respect to model parameters\n",
        "    loss, grad = eqx.filter_value_and_grad(loss_fn)(model, x, y)\n",
        "\n",
        "    # Calculate validation loss on a subset of test data\n",
        "    val_loss = loss_fn(model, test_x[..., ::32], test_y[..., ::32])\n",
        "\n",
        "    # Use optimizer to update model parameters with gradients\n",
        "    updates, new_state = optimizer.update(grad, state, model)\n",
        "\n",
        "    # Apply updates to the model parameters\n",
        "    new_model = eqx.apply_updates(model, updates)\n",
        "\n",
        "    # Return the updated model, new optimizer state, training loss, and validation loss\n",
        "    return new_model, new_state, loss, val_loss\n",
        "\n",
        "# Initialize lists to store loss history for training and validation\n",
        "loss_history = []\n",
        "val_loss_history = []\n",
        "\n",
        "# Set random seed for data shuffling\n",
        "shuffle_key = jax.random.PRNGKey(10)\n",
        "\n",
        "# Training loop over a specified number of epochs\n",
        "for epoch in tqdm(range(200)):\n",
        "    # Split the random key for each epoch to ensure different shuffling\n",
        "    shuffle_key, subkey = jax.random.split(shuffle_key)\n",
        "\n",
        "    # Loop over each batch from the data loader\n",
        "    for (batch_x, batch_y) in dataloader(\n",
        "        subkey,\n",
        "        train_x[..., ::32],    # Use a subset of training data\n",
        "        train_y[..., ::32],    # Use a subset of training labels\n",
        "        batch_size=100,        # Define batch size\n",
        "    ):\n",
        "        # Perform a single optimization step and get the updated model, optimizer state, and losses\n",
        "        fno, opt_state, loss, val_loss = make_step(fno, opt_state, batch_x, batch_y)\n",
        "\n",
        "        # Append the current training and validation losses to their respective histories\n",
        "        loss_history.append(loss)\n",
        "        val_loss_history.append(val_loss)"
      ],
      "metadata": {
        "colab": {
          "base_uri": "https://localhost:8080/",
          "height": 49,
          "referenced_widgets": [
            "170a48292ed14b4cb303bf90d4435d04",
            "5e55975fa2614b728767679717b443b9",
            "e277055496e84f08af8b037319320ca3",
            "3aeee0f4812b4ece88142f3be45f1c1a",
            "7ebcaa5fb0a44c938f7a9b735da1c1f1",
            "ad07fa771fa14b1db8016701c9e58c5b",
            "1e8a19d226c14b58927c3bc2312a0c36",
            "2dd96a402ad4454b95fdce64bd9976c6",
            "2bf7a4c4b049402db8f3daec2d5a0833",
            "cad6c72eb89f4d71b69e76c90542c2b6",
            "cbb679694cd14dccb29145afa85ad622"
          ]
        },
        "id": "giBzlmm4mrM9",
        "outputId": "7d312608-ca81-408c-be33-ddff4f07a686"
      },
      "execution_count": 24,
      "outputs": [
        {
          "output_type": "display_data",
          "data": {
            "text/plain": [
              "  0%|          | 0/200 [00:00<?, ?it/s]"
            ],
            "application/vnd.jupyter.widget-view+json": {
              "version_major": 2,
              "version_minor": 0,
              "model_id": "170a48292ed14b4cb303bf90d4435d04"
            }
          },
          "metadata": {}
        }
      ]
    },
    {
      "cell_type": "code",
      "source": [
        "plt.plot(loss_history, label=\"train loss\")\n",
        "plt.plot(val_loss_history, label=\"val loss\")\n",
        "plt.legend()\n",
        "plt.yscale(\"log\")\n",
        "plt.grid()"
      ],
      "metadata": {
        "id": "AZPfuFolm_61"
      },
      "execution_count": null,
      "outputs": []
    }
  ]
}